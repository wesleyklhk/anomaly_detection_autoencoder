{
  "nbformat": 4,
  "nbformat_minor": 0,
  "metadata": {
    "kernelspec": {
      "display_name": "Python 3",
      "language": "python",
      "name": "python3"
    },
    "language_info": {
      "codemirror_mode": {
        "name": "ipython",
        "version": 3
      },
      "file_extension": ".py",
      "mimetype": "text/x-python",
      "name": "python",
      "nbconvert_exporter": "python",
      "pygments_lexer": "ipython3",
      "version": "3.5.4"
    },
    "colab": {
      "name": "autoencoder_anomaly_detection.ipynb",
      "version": "0.3.2",
      "provenance": [],
      "collapsed_sections": [],
      "toc_visible": true
    }
  },
  "cells": [
    {
      "cell_type": "markdown",
      "metadata": {
        "id": "aytd0DSbCHDZ",
        "colab_type": "text"
      },
      "source": [
        "# Initialization"
      ]
    },
    {
      "cell_type": "code",
      "metadata": {
        "id": "UTBgDtWpCHDb",
        "colab_type": "code",
        "outputId": "0e123205-b322-4785-fffd-360d60536d09",
        "colab": {
          "base_uri": "https://localhost:8080/",
          "height": 34
        }
      },
      "source": [
        "import tensorflow as tf\n",
        "import pandas as pd\n",
        "import numpy as np\n",
        "from sklearn.model_selection import StratifiedKFold\n",
        "import pickle\n",
        "import os\n",
        "import logging\n",
        "import pdb\n",
        "from sklearn.preprocessing import StandardScaler,MinMaxScaler\n",
        "from sklearn.metrics import precision_recall_curve,precision_score,recall_score,confusion_matrix\n",
        "\n",
        "\n",
        "from google.colab import drive\n",
        "drive.mount('/content/drive')\n",
        "\n",
        "root_dir = '/content/drive/My Drive/autoencoder_example'\n",
        "model_dir = '/content/drive/My Drive/autoencoder_example/autoencoder_model_v1'"
      ],
      "execution_count": 52,
      "outputs": [
        {
          "output_type": "stream",
          "text": [
            "Drive already mounted at /content/drive; to attempt to forcibly remount, call drive.mount(\"/content/drive\", force_remount=True).\n"
          ],
          "name": "stdout"
        }
      ]
    },
    {
      "cell_type": "markdown",
      "metadata": {
        "id": "80Xk1KleCHDf",
        "colab_type": "text"
      },
      "source": [
        "# Import Data"
      ]
    },
    {
      "cell_type": "code",
      "metadata": {
        "scrolled": true,
        "id": "weQWhXtnCHDg",
        "colab_type": "code",
        "colab": {}
      },
      "source": [
        "df = pd.read_pickle(os.path.join(root_dir,'creditcard.pkl'),compression='gzip')\n",
        "full_y = df.Class\n",
        "full_X = df[[col for col in df.columns if col != 'Class']]"
      ],
      "execution_count": 0,
      "outputs": []
    },
    {
      "cell_type": "markdown",
      "metadata": {
        "id": "GxwgeeNLCHDj",
        "colab_type": "text"
      },
      "source": [
        "# CV"
      ]
    },
    {
      "cell_type": "code",
      "metadata": {
        "id": "r3LvhUZMCHDk",
        "colab_type": "code",
        "colab": {}
      },
      "source": [
        "seed = 0\n",
        "kfold = StratifiedKFold(n_splits=5,shuffle=True,random_state=seed)\n",
        "ksplit_indexes = list(kfold.split(full_X,full_y))"
      ],
      "execution_count": 0,
      "outputs": []
    },
    {
      "cell_type": "code",
      "metadata": {
        "id": "iIDw9ZOPCHDn",
        "colab_type": "code",
        "colab": {}
      },
      "source": [
        "with open(os.path.join(root_dir,'kfold.pkl'),'wb') as f:\n",
        "    pickle.dump({\n",
        "        'kfold':kfold,\n",
        "        'ksplit_indexes':ksplit_indexes\n",
        "    },f)\n",
        "    \n",
        "with open(os.path.join(root_dir,'kfold.pkl'),'rb') as f:\n",
        "    pickled = pickle.load(f)\n",
        "    kfold = pickled['kfold']\n",
        "    ksplit_indexes = pickled['ksplit_indexes']"
      ],
      "execution_count": 0,
      "outputs": []
    },
    {
      "cell_type": "markdown",
      "metadata": {
        "id": "IX_SRzUzCHDq",
        "colab_type": "text"
      },
      "source": [
        "# CV part2"
      ]
    },
    {
      "cell_type": "code",
      "metadata": {
        "id": "3Bh0LDeHCHDr",
        "colab_type": "code",
        "colab": {}
      },
      "source": [
        "ind = 0\n",
        "\n",
        "train_inds, test_inds = ksplit_indexes[ind]\n",
        "\n",
        "train_X = full_X.iloc[train_inds].drop(['Time'],axis=1)\n",
        "train_y = full_y.iloc[train_inds]\n",
        "\n",
        "normal_train_mask = train_y[train_y == 0].index\n",
        "\n",
        "\n",
        "test_X = full_X.iloc[test_inds].drop(['Time'],axis=1)\n",
        "test_y = full_y.iloc[test_inds]\n",
        "\n",
        "normal_test_mask = test_y[test_y == 0].index\n",
        "\n",
        "sc = MinMaxScaler().fit(train_X.loc[normal_train_mask])"
      ],
      "execution_count": 0,
      "outputs": []
    },
    {
      "cell_type": "markdown",
      "metadata": {
        "id": "toYmCSv1CHD2",
        "colab_type": "text"
      },
      "source": [
        "# AutoEncoder Estimator"
      ]
    },
    {
      "cell_type": "code",
      "metadata": {
        "id": "G35Q3vAdCHD4",
        "colab_type": "code",
        "colab": {}
      },
      "source": [
        "class AutoEncoderEstimator:\n",
        "    def __init__(self,params,model_dir):\n",
        "        self.model_dir = model_dir\n",
        "        self.params = params.copy()\n",
        "        self.params['model_dir'] = model_dir\n",
        "#         pdb.set_trace()\n",
        "        self.estimator = tf.estimator.Estimator(model_fn=self._model_func,model_dir=self.model_dir,params=params)\n",
        "        with open(os.path.join(self.model_dir,'params.pkl') , 'wb') as f:\n",
        "            pickle.dump(self.params,f)\n",
        "    \n",
        "\n",
        "    def train(self,X_df,batch_size,steps):\n",
        "        self.estimator.train(input_fn=lambda:self._train_input_fn((X_df,),(X_df,),batch_size),steps=steps)\n",
        "        print('finish training')\n",
        "        \n",
        "    def evaluate(self,X_df,batch_size):\n",
        "        self.estimator.evaluate(input_fn=lambda:self._eval_input_fn((X_df,),(X_df,),batch_size))\n",
        "        print('finish evaluation') \n",
        "        \n",
        "    def predict(self,X_df,batch_size):\n",
        "        return self.estimator.predict(input_fn=lambda:self._eval_input_fn((X_df,),(X_df,),batch_size))\n",
        "        \n",
        "        \n",
        "    ####################wrapp rnn as estimator\n",
        "    def _train_input_fn(self,features, labels, batch_size):\n",
        "        \"\"\"An input function for training\"\"\"\n",
        "        # Convert the inputs to a Dataset.\n",
        "        dataset = tf.data.Dataset.from_tensor_slices( (features, labels) )\n",
        "        dataset = dataset.repeat().batch(batch_size)#.shuffle(1000).repeat().batch(batch_size)\n",
        "        return dataset\n",
        "\n",
        "\n",
        "    def _eval_input_fn(self,features, labels, batch_size):\n",
        "        \"\"\"An input function for evaluation or prediction\"\"\"\n",
        "    #     features=dict(features)\n",
        "        if labels is None:\n",
        "            # No labels, use only features.\n",
        "            inputs = (features,features)\n",
        "        else:\n",
        "            inputs = (features, labels)\n",
        "\n",
        "        # Convert the inputs to a Dataset.\n",
        "        dataset = tf.data.Dataset.from_tensor_slices(inputs)\n",
        "\n",
        "        # Batch the examples\n",
        "        assert batch_size is not None, \"batch_size must not be None\"\n",
        "        dataset = dataset.batch(batch_size)\n",
        "\n",
        "        # Return the dataset.\n",
        "        return dataset\n",
        "    \n",
        "    def _model_func(self,features, labels, mode, params):\n",
        "        ###########params\n",
        "        input_len = params['input_len']\n",
        "        hidden_layer_sizes = params['hidden_layer_sizes']\n",
        "        hidden_layer_activations_func = params['hidden_layer_activations_func']\n",
        "        learning_rate = params['learning_rate']\n",
        "        \n",
        "        ###########define input\n",
        "        X = tf.cast(features[0], tf.float32)\n",
        "\n",
        "        ###########define hidden layers\n",
        "        weights = []\n",
        "        biases = []\n",
        "        Zs = [X]\n",
        "\n",
        "        for layer_ind,s in enumerate(hidden_layer_sizes):\n",
        "            act_func_key = hidden_layer_activations_func[layer_ind]\n",
        "            if layer_ind == 0:\n",
        "                prev_input_size = input_len\n",
        "            else:\n",
        "                prev_input_size = hidden_layer_sizes[layer_ind - 1]\n",
        "\n",
        "            W = tf.Variable(tf.truncated_normal([prev_input_size, s], -0.1, 0.1),dtype=tf.float32)\n",
        "            b = tf.Variable(tf.truncated_normal([s,], -0.1, 0.1),dtype=tf.float32)\n",
        "\n",
        "            Z = act_func_key( tf.matmul( Zs[-1] ,W ) + b )\n",
        "\n",
        "            weights.append(W)\n",
        "            biases.append(b)\n",
        "\n",
        "            Zs.append(Z)\n",
        "\n",
        "        ######output layer weight\n",
        "        W = tf.Variable(tf.truncated_normal([hidden_layer_sizes[-1], input_len], -0.1, 0.1),dtype=tf.float32)\n",
        "        b = tf.Variable(tf.truncated_normal([input_len], -0.1, 0.1),dtype=tf.float32)\n",
        "        Z = tf.matmul( Zs[-1] ,W ) + b\n",
        "\n",
        "        ######mse\n",
        "        difference = Z - X\n",
        "        mse = tf.reduce_mean(difference * difference,axis=1)####for prediction\n",
        "        \n",
        "    \n",
        "        if mode == tf.estimator.ModeKeys.PREDICT:\n",
        "            prediction_bundle = {\n",
        "                'mse': mse,\n",
        "                'Z':Z\n",
        "            }\n",
        "            return tf.estimator.EstimatorSpec(mode, predictions=prediction_bundle)            \n",
        "\n",
        "        ######loss\n",
        "        total_loss = tf.reduce_sum(mse)        \n",
        "        \n",
        "        if mode == tf.estimator.ModeKeys.EVAL:\n",
        "            return tf.estimator.EstimatorSpec(mode, loss=total_loss)        \n",
        "        \n",
        "\n",
        "        # Create training op.\n",
        "        assert mode == tf.estimator.ModeKeys.TRAIN\n",
        "        optimizer = tf.train.AdamOptimizer(learning_rate=learning_rate)\n",
        "        train_op = optimizer.minimize(total_loss, global_step=tf.train.get_global_step())\n",
        "        return tf.estimator.EstimatorSpec(mode, loss=total_loss, train_op=train_op)        \n",
        "        \n",
        "        "
      ],
      "execution_count": 0,
      "outputs": []
    },
    {
      "cell_type": "code",
      "metadata": {
        "id": "MMuXWv8PCHD9",
        "colab_type": "code",
        "colab": {
          "base_uri": "https://localhost:8080/",
          "height": 180
        },
        "outputId": "9085f37d-0558-458c-bdeb-2c8bdfea3e60"
      },
      "source": [
        "# get TF logger\n",
        "log = logging.getLogger('tensorflow')\n",
        "log.setLevel(logging.DEBUG)\n",
        "\n",
        "# create formatter and add it to the handlers\n",
        "formatter = logging.Formatter('%(asctime)s - %(name)s - %(levelname)s - %(message)s')\n",
        "\n",
        "# create file handler which logs even debug messages\n",
        "fh = logging.FileHandler(os.path.join(root_dir,'log'))\n",
        "fh.setLevel(logging.DEBUG)\n",
        "fh.setFormatter(formatter)\n",
        "log.addHandler(fh)\n",
        "\n",
        "\n",
        "input_len = len(train_X.columns)\n",
        "hidden_layer_sizes = [16]\n",
        "hidden_layer_activations_func = [tf.nn.sigmoid]\n",
        "learning_rate = 0.0001\n",
        "\n",
        "params = {\n",
        "    'input_len':input_len,\n",
        "    'hidden_layer_sizes':hidden_layer_sizes,\n",
        "    'hidden_layer_activations_func':hidden_layer_activations_func,\n",
        "    'learning_rate':learning_rate,\n",
        "}\n",
        "\n",
        "ae = AutoEncoderEstimator(params,model_dir)"
      ],
      "execution_count": 21,
      "outputs": [
        {
          "output_type": "stream",
          "text": [
            "I0731 16:12:31.595314 139869363488640 estimator.py:1790] Using default config.\n",
            "I0731 16:12:31.603216 139869363488640 estimator.py:209] Using config: {'_model_dir': '/content/drive/My Drive/autoencoder_example/autoencoder_model_v1', '_tf_random_seed': None, '_save_summary_steps': 100, '_save_checkpoints_steps': None, '_save_checkpoints_secs': 600, '_session_config': allow_soft_placement: true\n",
            "graph_options {\n",
            "  rewrite_options {\n",
            "    meta_optimizer_iterations: ONE\n",
            "  }\n",
            "}\n",
            ", '_keep_checkpoint_max': 5, '_keep_checkpoint_every_n_hours': 10000, '_log_step_count_steps': 100, '_train_distribute': None, '_device_fn': None, '_protocol': None, '_eval_distribute': None, '_experimental_distribute': None, '_experimental_max_worker_delay_secs': None, '_service': None, '_cluster_spec': <tensorflow.python.training.server_lib.ClusterSpec object at 0x7f35978fc1d0>, '_task_type': 'worker', '_task_id': 0, '_global_id_in_cluster': 0, '_master': '', '_evaluation_master': '', '_is_chief': True, '_num_ps_replicas': 0, '_num_worker_replicas': 1}\n"
          ],
          "name": "stderr"
        }
      ]
    },
    {
      "cell_type": "code",
      "metadata": {
        "id": "xLaSAi0nCHEC",
        "colab_type": "code",
        "outputId": "d0d8c466-40b5-4b7f-90b8-89420286f122",
        "colab": {
          "base_uri": "https://localhost:8080/",
          "height": 1000
        }
      },
      "source": [
        "for i in range(50):\n",
        "    ae.train(sc.transform(train_X.loc[normal_train_mask]),batch_size=20000,steps=300)\n",
        "    ae.evaluate(sc.transform(test_X.loc[normal_test_mask]),batch_size=20000)"
      ],
      "execution_count": 0,
      "outputs": [
        {
          "output_type": "stream",
          "text": [
            "I0731 17:08:21.005395 139869363488640 estimator.py:1145] Calling model_fn.\n",
            "I0731 17:08:21.174324 139869363488640 estimator.py:1147] Done calling model_fn.\n",
            "I0731 17:08:21.180253 139869363488640 basic_session_run_hooks.py:541] Create CheckpointSaverHook.\n",
            "I0731 17:08:21.287770 139869363488640 monitored_session.py:240] Graph was finalized.\n",
            "I0731 17:08:21.300919 139869363488640 saver.py:1280] Restoring parameters from /content/drive/My Drive/autoencoder_example/autoencoder_model_v1/model.ckpt-12000\n",
            "I0731 17:08:21.373402 139869363488640 session_manager.py:500] Running local_init_op.\n",
            "I0731 17:08:21.385728 139869363488640 session_manager.py:502] Done running local_init_op.\n",
            "I0731 17:08:49.232966 139869363488640 basic_session_run_hooks.py:606] Saving checkpoints for 12000 into /content/drive/My Drive/autoencoder_example/autoencoder_model_v1/model.ckpt.\n",
            "I0731 17:08:50.860307 139869363488640 basic_session_run_hooks.py:262] loss = 46.341076, step = 12001\n",
            "I0731 17:08:57.880023 139869363488640 basic_session_run_hooks.py:692] global_step/sec: 14.2449\n",
            "I0731 17:08:57.883731 139869363488640 basic_session_run_hooks.py:260] loss = 35.036987, step = 12101 (7.023 sec)\n",
            "I0731 17:09:04.699026 139869363488640 basic_session_run_hooks.py:692] global_step/sec: 14.6649\n",
            "I0731 17:09:04.707667 139869363488640 basic_session_run_hooks.py:260] loss = 37.173534, step = 12201 (6.824 sec)\n",
            "I0731 17:09:11.183511 139869363488640 basic_session_run_hooks.py:606] Saving checkpoints for 12300 into /content/drive/My Drive/autoencoder_example/autoencoder_model_v1/model.ckpt.\n",
            "I0731 17:09:11.858960 139869363488640 estimator.py:368] Loss for final step: 33.707325.\n",
            "I0731 17:09:11.986124 139869363488640 estimator.py:1145] Calling model_fn.\n",
            "I0731 17:09:12.025693 139869363488640 estimator.py:1147] Done calling model_fn.\n",
            "I0731 17:09:12.053145 139869363488640 evaluation.py:255] Starting evaluation at 2019-07-31T17:09:12Z\n"
          ],
          "name": "stderr"
        },
        {
          "output_type": "stream",
          "text": [
            "finish training\n"
          ],
          "name": "stdout"
        },
        {
          "output_type": "stream",
          "text": [
            "I0731 17:09:12.359978 139869363488640 monitored_session.py:240] Graph was finalized.\n",
            "I0731 17:09:12.367150 139869363488640 saver.py:1280] Restoring parameters from /content/drive/My Drive/autoencoder_example/autoencoder_model_v1/model.ckpt-12300\n",
            "I0731 17:09:12.398751 139869363488640 session_manager.py:500] Running local_init_op.\n",
            "I0731 17:09:12.411534 139869363488640 session_manager.py:502] Done running local_init_op.\n",
            "I0731 17:09:12.735035 139869363488640 evaluation.py:275] Finished evaluation at 2019-07-31-17:09:12\n",
            "I0731 17:09:12.737097 139869363488640 estimator.py:2039] Saving dict for global step 12300: global_step = 12300, loss = 34.251686\n",
            "I0731 17:09:12.744577 139869363488640 estimator.py:2099] Saving 'checkpoint_path' summary for global step 12300: /content/drive/My Drive/autoencoder_example/autoencoder_model_v1/model.ckpt-12300\n"
          ],
          "name": "stderr"
        },
        {
          "output_type": "stream",
          "text": [
            "finish evaluation\n"
          ],
          "name": "stdout"
        },
        {
          "output_type": "stream",
          "text": [
            "I0731 17:09:13.144878 139869363488640 estimator.py:1145] Calling model_fn.\n",
            "I0731 17:09:13.315037 139869363488640 estimator.py:1147] Done calling model_fn.\n",
            "I0731 17:09:13.320462 139869363488640 basic_session_run_hooks.py:541] Create CheckpointSaverHook.\n",
            "I0731 17:09:13.431852 139869363488640 monitored_session.py:240] Graph was finalized.\n",
            "I0731 17:09:13.442148 139869363488640 saver.py:1280] Restoring parameters from /content/drive/My Drive/autoencoder_example/autoencoder_model_v1/model.ckpt-12300\n",
            "I0731 17:09:13.511185 139869363488640 session_manager.py:500] Running local_init_op.\n",
            "I0731 17:09:13.524812 139869363488640 session_manager.py:502] Done running local_init_op.\n",
            "I0731 17:09:41.256057 139869363488640 basic_session_run_hooks.py:606] Saving checkpoints for 12300 into /content/drive/My Drive/autoencoder_example/autoencoder_model_v1/model.ckpt.\n",
            "I0731 17:09:43.045415 139869363488640 basic_session_run_hooks.py:262] loss = 46.164467, step = 12301\n",
            "I0731 17:09:49.636748 139869363488640 basic_session_run_hooks.py:692] global_step/sec: 15.1706\n",
            "I0731 17:09:49.639744 139869363488640 basic_session_run_hooks.py:260] loss = 34.871964, step = 12401 (6.594 sec)\n",
            "I0731 17:09:56.915088 139869363488640 basic_session_run_hooks.py:692] global_step/sec: 13.7394\n",
            "I0731 17:09:56.921232 139869363488640 basic_session_run_hooks.py:260] loss = 36.990875, step = 12501 (7.281 sec)\n",
            "I0731 17:10:03.384836 139869363488640 basic_session_run_hooks.py:606] Saving checkpoints for 12600 into /content/drive/My Drive/autoencoder_example/autoencoder_model_v1/model.ckpt.\n",
            "I0731 17:10:04.068600 139869363488640 estimator.py:368] Loss for final step: 33.541176.\n",
            "I0731 17:10:04.186415 139869363488640 estimator.py:1145] Calling model_fn.\n",
            "I0731 17:10:04.227685 139869363488640 estimator.py:1147] Done calling model_fn.\n",
            "I0731 17:10:04.255556 139869363488640 evaluation.py:255] Starting evaluation at 2019-07-31T17:10:04Z\n"
          ],
          "name": "stderr"
        },
        {
          "output_type": "stream",
          "text": [
            "finish training\n"
          ],
          "name": "stdout"
        },
        {
          "output_type": "stream",
          "text": [
            "I0731 17:10:04.344765 139869363488640 monitored_session.py:240] Graph was finalized.\n",
            "I0731 17:10:04.352599 139869363488640 saver.py:1280] Restoring parameters from /content/drive/My Drive/autoencoder_example/autoencoder_model_v1/model.ckpt-12600\n",
            "I0731 17:10:04.386407 139869363488640 session_manager.py:500] Running local_init_op.\n",
            "I0731 17:10:04.399909 139869363488640 session_manager.py:502] Done running local_init_op.\n",
            "I0731 17:10:04.715638 139869363488640 evaluation.py:275] Finished evaluation at 2019-07-31-17:10:04\n",
            "I0731 17:10:04.717812 139869363488640 estimator.py:2039] Saving dict for global step 12600: global_step = 12600, loss = 34.086124\n",
            "I0731 17:10:04.727035 139869363488640 estimator.py:2099] Saving 'checkpoint_path' summary for global step 12600: /content/drive/My Drive/autoencoder_example/autoencoder_model_v1/model.ckpt-12600\n"
          ],
          "name": "stderr"
        },
        {
          "output_type": "stream",
          "text": [
            "finish evaluation\n"
          ],
          "name": "stdout"
        },
        {
          "output_type": "stream",
          "text": [
            "I0731 17:10:05.088027 139869363488640 estimator.py:1145] Calling model_fn.\n",
            "I0731 17:10:05.255003 139869363488640 estimator.py:1147] Done calling model_fn.\n",
            "I0731 17:10:05.259153 139869363488640 basic_session_run_hooks.py:541] Create CheckpointSaverHook.\n",
            "I0731 17:10:05.370290 139869363488640 monitored_session.py:240] Graph was finalized.\n",
            "I0731 17:10:05.380407 139869363488640 saver.py:1280] Restoring parameters from /content/drive/My Drive/autoencoder_example/autoencoder_model_v1/model.ckpt-12600\n",
            "I0731 17:10:05.444462 139869363488640 session_manager.py:500] Running local_init_op.\n",
            "I0731 17:10:05.456781 139869363488640 session_manager.py:502] Done running local_init_op.\n",
            "I0731 17:10:32.902967 139869363488640 basic_session_run_hooks.py:606] Saving checkpoints for 12600 into /content/drive/My Drive/autoencoder_example/autoencoder_model_v1/model.ckpt.\n",
            "I0731 17:10:34.511658 139869363488640 basic_session_run_hooks.py:262] loss = 45.97376, step = 12601\n",
            "I0731 17:10:41.415085 139869363488640 basic_session_run_hooks.py:692] global_step/sec: 14.4846\n",
            "I0731 17:10:41.419903 139869363488640 basic_session_run_hooks.py:260] loss = 34.693047, step = 12701 (6.908 sec)\n",
            "I0731 17:10:48.501667 139869363488640 basic_session_run_hooks.py:692] global_step/sec: 14.1112\n",
            "I0731 17:10:48.507710 139869363488640 basic_session_run_hooks.py:260] loss = 36.792618, step = 12801 (7.088 sec)\n",
            "I0731 17:10:55.092360 139869363488640 basic_session_run_hooks.py:606] Saving checkpoints for 12900 into /content/drive/My Drive/autoencoder_example/autoencoder_model_v1/model.ckpt.\n",
            "I0731 17:10:55.775605 139869363488640 estimator.py:368] Loss for final step: 33.359684.\n",
            "I0731 17:10:55.892184 139869363488640 estimator.py:1145] Calling model_fn.\n",
            "I0731 17:10:55.931516 139869363488640 estimator.py:1147] Done calling model_fn.\n",
            "I0731 17:10:55.959213 139869363488640 evaluation.py:255] Starting evaluation at 2019-07-31T17:10:55Z\n"
          ],
          "name": "stderr"
        },
        {
          "output_type": "stream",
          "text": [
            "finish training\n"
          ],
          "name": "stdout"
        },
        {
          "output_type": "stream",
          "text": [
            "I0731 17:10:56.047355 139869363488640 monitored_session.py:240] Graph was finalized.\n",
            "I0731 17:10:56.056848 139869363488640 saver.py:1280] Restoring parameters from /content/drive/My Drive/autoencoder_example/autoencoder_model_v1/model.ckpt-12900\n",
            "I0731 17:10:56.091659 139869363488640 session_manager.py:500] Running local_init_op.\n",
            "I0731 17:10:56.104715 139869363488640 session_manager.py:502] Done running local_init_op.\n",
            "I0731 17:10:56.411099 139869363488640 evaluation.py:275] Finished evaluation at 2019-07-31-17:10:56\n",
            "I0731 17:10:56.413282 139869363488640 estimator.py:2039] Saving dict for global step 12900: global_step = 12900, loss = 33.90592\n",
            "I0731 17:10:56.421755 139869363488640 estimator.py:2099] Saving 'checkpoint_path' summary for global step 12900: /content/drive/My Drive/autoencoder_example/autoencoder_model_v1/model.ckpt-12900\n"
          ],
          "name": "stderr"
        },
        {
          "output_type": "stream",
          "text": [
            "finish evaluation\n"
          ],
          "name": "stdout"
        },
        {
          "output_type": "stream",
          "text": [
            "I0731 17:10:56.801792 139869363488640 estimator.py:1145] Calling model_fn.\n",
            "I0731 17:10:56.968914 139869363488640 estimator.py:1147] Done calling model_fn.\n",
            "I0731 17:10:56.978446 139869363488640 basic_session_run_hooks.py:541] Create CheckpointSaverHook.\n",
            "I0731 17:10:57.284635 139869363488640 monitored_session.py:240] Graph was finalized.\n",
            "I0731 17:10:57.297421 139869363488640 saver.py:1280] Restoring parameters from /content/drive/My Drive/autoencoder_example/autoencoder_model_v1/model.ckpt-12900\n",
            "I0731 17:10:57.368257 139869363488640 session_manager.py:500] Running local_init_op.\n",
            "I0731 17:10:57.382050 139869363488640 session_manager.py:502] Done running local_init_op.\n",
            "I0731 17:11:24.685698 139869363488640 basic_session_run_hooks.py:606] Saving checkpoints for 12900 into /content/drive/My Drive/autoencoder_example/autoencoder_model_v1/model.ckpt.\n",
            "I0731 17:11:26.309457 139869363488640 basic_session_run_hooks.py:262] loss = 45.767143, step = 12901\n",
            "I0731 17:11:33.177228 139869363488640 basic_session_run_hooks.py:692] global_step/sec: 14.5601\n",
            "I0731 17:11:33.180337 139869363488640 basic_session_run_hooks.py:260] loss = 34.498314, step = 13001 (6.871 sec)\n",
            "I0731 17:11:40.039974 139869363488640 basic_session_run_hooks.py:692] global_step/sec: 14.5714\n",
            "I0731 17:11:40.043092 139869363488640 basic_session_run_hooks.py:260] loss = 36.5765, step = 13101 (6.863 sec)\n",
            "I0731 17:11:46.506899 139869363488640 basic_session_run_hooks.py:606] Saving checkpoints for 13200 into /content/drive/My Drive/autoencoder_example/autoencoder_model_v1/model.ckpt.\n",
            "I0731 17:11:47.162221 139869363488640 estimator.py:368] Loss for final step: 33.160587.\n",
            "I0731 17:11:47.279502 139869363488640 estimator.py:1145] Calling model_fn.\n",
            "I0731 17:11:47.320020 139869363488640 estimator.py:1147] Done calling model_fn.\n",
            "I0731 17:11:47.348098 139869363488640 evaluation.py:255] Starting evaluation at 2019-07-31T17:11:47Z\n"
          ],
          "name": "stderr"
        },
        {
          "output_type": "stream",
          "text": [
            "finish training\n"
          ],
          "name": "stdout"
        },
        {
          "output_type": "stream",
          "text": [
            "I0731 17:11:47.440021 139869363488640 monitored_session.py:240] Graph was finalized.\n",
            "I0731 17:11:47.448811 139869363488640 saver.py:1280] Restoring parameters from /content/drive/My Drive/autoencoder_example/autoencoder_model_v1/model.ckpt-13200\n",
            "I0731 17:11:47.485264 139869363488640 session_manager.py:500] Running local_init_op.\n",
            "I0731 17:11:47.499707 139869363488640 session_manager.py:502] Done running local_init_op.\n",
            "I0731 17:11:47.814355 139869363488640 evaluation.py:275] Finished evaluation at 2019-07-31-17:11:47\n",
            "I0731 17:11:47.816569 139869363488640 estimator.py:2039] Saving dict for global step 13200: global_step = 13200, loss = 33.708878\n",
            "I0731 17:11:47.824494 139869363488640 estimator.py:2099] Saving 'checkpoint_path' summary for global step 13200: /content/drive/My Drive/autoencoder_example/autoencoder_model_v1/model.ckpt-13200\n"
          ],
          "name": "stderr"
        },
        {
          "output_type": "stream",
          "text": [
            "finish evaluation\n"
          ],
          "name": "stdout"
        },
        {
          "output_type": "stream",
          "text": [
            "I0731 17:11:48.204183 139869363488640 estimator.py:1145] Calling model_fn.\n",
            "I0731 17:11:48.373376 139869363488640 estimator.py:1147] Done calling model_fn.\n",
            "I0731 17:11:48.377939 139869363488640 basic_session_run_hooks.py:541] Create CheckpointSaverHook.\n",
            "I0731 17:11:48.492775 139869363488640 monitored_session.py:240] Graph was finalized.\n",
            "I0731 17:11:48.506520 139869363488640 saver.py:1280] Restoring parameters from /content/drive/My Drive/autoencoder_example/autoencoder_model_v1/model.ckpt-13200\n",
            "I0731 17:11:48.576205 139869363488640 session_manager.py:500] Running local_init_op.\n",
            "I0731 17:11:48.589772 139869363488640 session_manager.py:502] Done running local_init_op.\n",
            "I0731 17:12:15.742732 139869363488640 basic_session_run_hooks.py:606] Saving checkpoints for 13200 into /content/drive/My Drive/autoencoder_example/autoencoder_model_v1/model.ckpt.\n",
            "I0731 17:12:18.973847 139869363488640 basic_session_run_hooks.py:262] loss = 45.54228, step = 13201\n",
            "I0731 17:12:25.547427 139869363488640 basic_session_run_hooks.py:692] global_step/sec: 15.2114\n",
            "I0731 17:12:25.553673 139869363488640 basic_session_run_hooks.py:260] loss = 34.2853, step = 13301 (6.580 sec)\n",
            "I0731 17:12:32.746461 139869363488640 basic_session_run_hooks.py:692] global_step/sec: 13.8907\n",
            "I0731 17:12:32.754347 139869363488640 basic_session_run_hooks.py:260] loss = 36.339638, step = 13401 (7.201 sec)\n",
            "I0731 17:12:39.235715 139869363488640 basic_session_run_hooks.py:606] Saving checkpoints for 13500 into /content/drive/My Drive/autoencoder_example/autoencoder_model_v1/model.ckpt.\n",
            "I0731 17:12:39.879213 139869363488640 estimator.py:368] Loss for final step: 32.941055.\n",
            "I0731 17:12:40.000517 139869363488640 estimator.py:1145] Calling model_fn.\n",
            "I0731 17:12:40.042997 139869363488640 estimator.py:1147] Done calling model_fn.\n",
            "I0731 17:12:40.071523 139869363488640 evaluation.py:255] Starting evaluation at 2019-07-31T17:12:40Z\n"
          ],
          "name": "stderr"
        },
        {
          "output_type": "stream",
          "text": [
            "finish training\n"
          ],
          "name": "stdout"
        },
        {
          "output_type": "stream",
          "text": [
            "I0731 17:12:40.161819 139869363488640 monitored_session.py:240] Graph was finalized.\n",
            "I0731 17:12:40.171737 139869363488640 saver.py:1280] Restoring parameters from /content/drive/My Drive/autoencoder_example/autoencoder_model_v1/model.ckpt-13500\n",
            "I0731 17:12:40.205653 139869363488640 session_manager.py:500] Running local_init_op.\n",
            "I0731 17:12:40.220840 139869363488640 session_manager.py:502] Done running local_init_op.\n",
            "I0731 17:12:40.538980 139869363488640 evaluation.py:275] Finished evaluation at 2019-07-31-17:12:40\n",
            "I0731 17:12:40.541179 139869363488640 estimator.py:2039] Saving dict for global step 13500: global_step = 13500, loss = 33.49225\n",
            "I0731 17:12:40.550529 139869363488640 estimator.py:2099] Saving 'checkpoint_path' summary for global step 13500: /content/drive/My Drive/autoencoder_example/autoencoder_model_v1/model.ckpt-13500\n"
          ],
          "name": "stderr"
        },
        {
          "output_type": "stream",
          "text": [
            "finish evaluation\n"
          ],
          "name": "stdout"
        },
        {
          "output_type": "stream",
          "text": [
            "I0731 17:12:40.936857 139869363488640 estimator.py:1145] Calling model_fn.\n",
            "I0731 17:12:41.101775 139869363488640 estimator.py:1147] Done calling model_fn.\n",
            "I0731 17:12:41.106315 139869363488640 basic_session_run_hooks.py:541] Create CheckpointSaverHook.\n",
            "I0731 17:12:41.224401 139869363488640 monitored_session.py:240] Graph was finalized.\n",
            "I0731 17:12:41.236556 139869363488640 saver.py:1280] Restoring parameters from /content/drive/My Drive/autoencoder_example/autoencoder_model_v1/model.ckpt-13500\n",
            "I0731 17:12:41.303013 139869363488640 session_manager.py:500] Running local_init_op.\n",
            "I0731 17:12:41.317374 139869363488640 session_manager.py:502] Done running local_init_op.\n",
            "I0731 17:13:08.626278 139869363488640 basic_session_run_hooks.py:606] Saving checkpoints for 13500 into /content/drive/My Drive/autoencoder_example/autoencoder_model_v1/model.ckpt.\n",
            "I0731 17:13:11.788185 139869363488640 basic_session_run_hooks.py:262] loss = 45.296257, step = 13501\n",
            "I0731 17:13:18.908031 139869363488640 basic_session_run_hooks.py:692] global_step/sec: 14.0445\n",
            "I0731 17:13:18.918887 139869363488640 basic_session_run_hooks.py:260] loss = 34.050922, step = 13601 (7.130 sec)\n",
            "I0731 17:13:25.798377 139869363488640 basic_session_run_hooks.py:692] global_step/sec: 14.513\n",
            "I0731 17:13:25.803960 139869363488640 basic_session_run_hooks.py:260] loss = 36.078453, step = 13701 (6.885 sec)\n",
            "I0731 17:13:32.337678 139869363488640 basic_session_run_hooks.py:606] Saving checkpoints for 13800 into /content/drive/My Drive/autoencoder_example/autoencoder_model_v1/model.ckpt.\n",
            "I0731 17:13:32.979346 139869363488640 estimator.py:368] Loss for final step: 32.6976.\n",
            "I0731 17:13:33.093152 139869363488640 estimator.py:1145] Calling model_fn.\n",
            "I0731 17:13:33.134436 139869363488640 estimator.py:1147] Done calling model_fn.\n",
            "I0731 17:13:33.162305 139869363488640 evaluation.py:255] Starting evaluation at 2019-07-31T17:13:33Z\n"
          ],
          "name": "stderr"
        },
        {
          "output_type": "stream",
          "text": [
            "finish training\n"
          ],
          "name": "stdout"
        },
        {
          "output_type": "stream",
          "text": [
            "I0731 17:13:33.489530 139869363488640 monitored_session.py:240] Graph was finalized.\n",
            "I0731 17:13:33.499716 139869363488640 saver.py:1280] Restoring parameters from /content/drive/My Drive/autoencoder_example/autoencoder_model_v1/model.ckpt-13800\n",
            "I0731 17:13:33.534183 139869363488640 session_manager.py:500] Running local_init_op.\n",
            "I0731 17:13:33.548965 139869363488640 session_manager.py:502] Done running local_init_op.\n",
            "I0731 17:13:33.866844 139869363488640 evaluation.py:275] Finished evaluation at 2019-07-31-17:13:33\n",
            "I0731 17:13:33.869008 139869363488640 estimator.py:2039] Saving dict for global step 13800: global_step = 13800, loss = 33.252605\n",
            "I0731 17:13:33.877227 139869363488640 estimator.py:2099] Saving 'checkpoint_path' summary for global step 13800: /content/drive/My Drive/autoencoder_example/autoencoder_model_v1/model.ckpt-13800\n"
          ],
          "name": "stderr"
        },
        {
          "output_type": "stream",
          "text": [
            "finish evaluation\n"
          ],
          "name": "stdout"
        },
        {
          "output_type": "stream",
          "text": [
            "I0731 17:13:34.249845 139869363488640 estimator.py:1145] Calling model_fn.\n",
            "I0731 17:13:34.417661 139869363488640 estimator.py:1147] Done calling model_fn.\n",
            "I0731 17:13:34.422071 139869363488640 basic_session_run_hooks.py:541] Create CheckpointSaverHook.\n",
            "I0731 17:13:34.537398 139869363488640 monitored_session.py:240] Graph was finalized.\n",
            "I0731 17:13:34.549795 139869363488640 saver.py:1280] Restoring parameters from /content/drive/My Drive/autoencoder_example/autoencoder_model_v1/model.ckpt-13800\n",
            "I0731 17:13:34.617305 139869363488640 session_manager.py:500] Running local_init_op.\n",
            "I0731 17:13:34.631299 139869363488640 session_manager.py:502] Done running local_init_op.\n",
            "I0731 17:14:02.000830 139869363488640 basic_session_run_hooks.py:606] Saving checkpoints for 13800 into /content/drive/My Drive/autoencoder_example/autoencoder_model_v1/model.ckpt.\n",
            "I0731 17:14:05.157529 139869363488640 basic_session_run_hooks.py:262] loss = 45.02541, step = 13801\n",
            "I0731 17:14:11.878963 139869363488640 basic_session_run_hooks.py:692] global_step/sec: 14.877\n",
            "I0731 17:14:11.882060 139869363488640 basic_session_run_hooks.py:260] loss = 33.791306, step = 13901 (6.725 sec)\n",
            "I0731 17:14:18.908115 139869363488640 basic_session_run_hooks.py:692] global_step/sec: 14.2264\n",
            "I0731 17:14:18.911154 139869363488640 basic_session_run_hooks.py:260] loss = 35.788467, step = 14001 (7.029 sec)\n",
            "I0731 17:14:25.372699 139869363488640 basic_session_run_hooks.py:606] Saving checkpoints for 14100 into /content/drive/My Drive/autoencoder_example/autoencoder_model_v1/model.ckpt.\n",
            "I0731 17:14:26.035290 139869363488640 estimator.py:368] Loss for final step: 32.425903.\n",
            "I0731 17:14:26.155840 139869363488640 estimator.py:1145] Calling model_fn.\n",
            "I0731 17:14:26.197525 139869363488640 estimator.py:1147] Done calling model_fn.\n",
            "I0731 17:14:26.225682 139869363488640 evaluation.py:255] Starting evaluation at 2019-07-31T17:14:26Z\n"
          ],
          "name": "stderr"
        },
        {
          "output_type": "stream",
          "text": [
            "finish training\n"
          ],
          "name": "stdout"
        },
        {
          "output_type": "stream",
          "text": [
            "I0731 17:14:26.317550 139869363488640 monitored_session.py:240] Graph was finalized.\n",
            "I0731 17:14:26.327467 139869363488640 saver.py:1280] Restoring parameters from /content/drive/My Drive/autoencoder_example/autoencoder_model_v1/model.ckpt-14100\n",
            "I0731 17:14:26.362147 139869363488640 session_manager.py:500] Running local_init_op.\n",
            "I0731 17:14:26.375412 139869363488640 session_manager.py:502] Done running local_init_op.\n",
            "I0731 17:14:26.696654 139869363488640 evaluation.py:275] Finished evaluation at 2019-07-31-17:14:26\n",
            "I0731 17:14:26.698736 139869363488640 estimator.py:2039] Saving dict for global step 14100: global_step = 14100, loss = 32.985744\n",
            "I0731 17:14:26.707571 139869363488640 estimator.py:2099] Saving 'checkpoint_path' summary for global step 14100: /content/drive/My Drive/autoencoder_example/autoencoder_model_v1/model.ckpt-14100\n"
          ],
          "name": "stderr"
        },
        {
          "output_type": "stream",
          "text": [
            "finish evaluation\n"
          ],
          "name": "stdout"
        },
        {
          "output_type": "stream",
          "text": [
            "I0731 17:14:27.099725 139869363488640 estimator.py:1145] Calling model_fn.\n",
            "I0731 17:14:27.269014 139869363488640 estimator.py:1147] Done calling model_fn.\n",
            "I0731 17:14:27.273510 139869363488640 basic_session_run_hooks.py:541] Create CheckpointSaverHook.\n",
            "I0731 17:14:27.389562 139869363488640 monitored_session.py:240] Graph was finalized.\n",
            "I0731 17:14:27.404180 139869363488640 saver.py:1280] Restoring parameters from /content/drive/My Drive/autoencoder_example/autoencoder_model_v1/model.ckpt-14100\n",
            "I0731 17:14:27.468499 139869363488640 session_manager.py:500] Running local_init_op.\n",
            "I0731 17:14:27.482033 139869363488640 session_manager.py:502] Done running local_init_op.\n",
            "I0731 17:14:54.843064 139869363488640 basic_session_run_hooks.py:606] Saving checkpoints for 14100 into /content/drive/My Drive/autoencoder_example/autoencoder_model_v1/model.ckpt.\n",
            "I0731 17:14:57.764623 139869363488640 basic_session_run_hooks.py:262] loss = 44.72521, step = 14101\n",
            "I0731 17:15:04.946907 139869363488640 basic_session_run_hooks.py:692] global_step/sec: 13.9225\n",
            "I0731 17:15:04.950046 139869363488640 basic_session_run_hooks.py:260] loss = 33.5017, step = 14201 (7.185 sec)\n",
            "I0731 17:15:11.728106 139869363488640 basic_session_run_hooks.py:692] global_step/sec: 14.7466\n",
            "I0731 17:15:11.735352 139869363488640 basic_session_run_hooks.py:260] loss = 35.464226, step = 14301 (6.785 sec)\n",
            "I0731 17:15:18.227717 139869363488640 basic_session_run_hooks.py:606] Saving checkpoints for 14400 into /content/drive/My Drive/autoencoder_example/autoencoder_model_v1/model.ckpt.\n",
            "I0731 17:15:18.883305 139869363488640 estimator.py:368] Loss for final step: 32.120777.\n",
            "I0731 17:15:18.998841 139869363488640 estimator.py:1145] Calling model_fn.\n",
            "I0731 17:15:19.039322 139869363488640 estimator.py:1147] Done calling model_fn.\n",
            "I0731 17:15:19.067115 139869363488640 evaluation.py:255] Starting evaluation at 2019-07-31T17:15:19Z\n"
          ],
          "name": "stderr"
        },
        {
          "output_type": "stream",
          "text": [
            "finish training\n"
          ],
          "name": "stdout"
        },
        {
          "output_type": "stream",
          "text": [
            "I0731 17:15:19.159511 139869363488640 monitored_session.py:240] Graph was finalized.\n",
            "I0731 17:15:19.170543 139869363488640 saver.py:1280] Restoring parameters from /content/drive/My Drive/autoencoder_example/autoencoder_model_v1/model.ckpt-14400\n",
            "I0731 17:15:19.205233 139869363488640 session_manager.py:500] Running local_init_op.\n",
            "I0731 17:15:19.218311 139869363488640 session_manager.py:502] Done running local_init_op.\n",
            "I0731 17:15:19.535829 139869363488640 evaluation.py:275] Finished evaluation at 2019-07-31-17:15:19\n",
            "I0731 17:15:19.538016 139869363488640 estimator.py:2039] Saving dict for global step 14400: global_step = 14400, loss = 32.68654\n",
            "I0731 17:15:19.546566 139869363488640 estimator.py:2099] Saving 'checkpoint_path' summary for global step 14400: /content/drive/My Drive/autoencoder_example/autoencoder_model_v1/model.ckpt-14400\n"
          ],
          "name": "stderr"
        },
        {
          "output_type": "stream",
          "text": [
            "finish evaluation\n"
          ],
          "name": "stdout"
        },
        {
          "output_type": "stream",
          "text": [
            "I0731 17:15:19.920742 139869363488640 estimator.py:1145] Calling model_fn.\n",
            "I0731 17:15:20.086643 139869363488640 estimator.py:1147] Done calling model_fn.\n",
            "I0731 17:15:20.091139 139869363488640 basic_session_run_hooks.py:541] Create CheckpointSaverHook.\n",
            "I0731 17:15:20.408180 139869363488640 monitored_session.py:240] Graph was finalized.\n",
            "I0731 17:15:20.421591 139869363488640 saver.py:1280] Restoring parameters from /content/drive/My Drive/autoencoder_example/autoencoder_model_v1/model.ckpt-14400\n",
            "I0731 17:15:20.487405 139869363488640 session_manager.py:500] Running local_init_op.\n",
            "I0731 17:15:20.501751 139869363488640 session_manager.py:502] Done running local_init_op.\n",
            "I0731 17:15:48.098814 139869363488640 basic_session_run_hooks.py:606] Saving checkpoints for 14400 into /content/drive/My Drive/autoencoder_example/autoencoder_model_v1/model.ckpt.\n",
            "I0731 17:15:51.093341 139869363488640 basic_session_run_hooks.py:262] loss = 44.39015, step = 14401\n",
            "I0731 17:15:58.100647 139869363488640 basic_session_run_hooks.py:692] global_step/sec: 14.2702\n",
            "I0731 17:15:58.111164 139869363488640 basic_session_run_hooks.py:260] loss = 33.176407, step = 14501 (7.018 sec)\n",
            "I0731 17:16:05.165159 139869363488640 basic_session_run_hooks.py:692] global_step/sec: 14.1552\n",
            "I0731 17:16:05.171332 139869363488640 basic_session_run_hooks.py:260] loss = 35.099228, step = 14601 (7.060 sec)\n",
            "I0731 17:16:11.677852 139869363488640 basic_session_run_hooks.py:606] Saving checkpoints for 14700 into /content/drive/My Drive/autoencoder_example/autoencoder_model_v1/model.ckpt.\n",
            "I0731 17:16:12.302056 139869363488640 estimator.py:368] Loss for final step: 31.776154.\n",
            "I0731 17:16:12.422564 139869363488640 estimator.py:1145] Calling model_fn.\n",
            "I0731 17:16:12.464163 139869363488640 estimator.py:1147] Done calling model_fn.\n",
            "I0731 17:16:12.493749 139869363488640 evaluation.py:255] Starting evaluation at 2019-07-31T17:16:12Z\n"
          ],
          "name": "stderr"
        },
        {
          "output_type": "stream",
          "text": [
            "finish training\n"
          ],
          "name": "stdout"
        },
        {
          "output_type": "stream",
          "text": [
            "I0731 17:16:12.586516 139869363488640 monitored_session.py:240] Graph was finalized.\n",
            "I0731 17:16:12.596870 139869363488640 saver.py:1280] Restoring parameters from /content/drive/My Drive/autoencoder_example/autoencoder_model_v1/model.ckpt-14700\n",
            "I0731 17:16:12.632749 139869363488640 session_manager.py:500] Running local_init_op.\n",
            "I0731 17:16:12.647721 139869363488640 session_manager.py:502] Done running local_init_op.\n",
            "I0731 17:16:12.965073 139869363488640 evaluation.py:275] Finished evaluation at 2019-07-31-17:16:12\n",
            "I0731 17:16:12.967137 139869363488640 estimator.py:2039] Saving dict for global step 14700: global_step = 14700, loss = 32.349022\n",
            "I0731 17:16:12.975459 139869363488640 estimator.py:2099] Saving 'checkpoint_path' summary for global step 14700: /content/drive/My Drive/autoencoder_example/autoencoder_model_v1/model.ckpt-14700\n"
          ],
          "name": "stderr"
        },
        {
          "output_type": "stream",
          "text": [
            "finish evaluation\n"
          ],
          "name": "stdout"
        },
        {
          "output_type": "stream",
          "text": [
            "I0731 17:16:13.352701 139869363488640 estimator.py:1145] Calling model_fn.\n",
            "I0731 17:16:13.525740 139869363488640 estimator.py:1147] Done calling model_fn.\n",
            "I0731 17:16:13.530307 139869363488640 basic_session_run_hooks.py:541] Create CheckpointSaverHook.\n",
            "I0731 17:16:13.642790 139869363488640 monitored_session.py:240] Graph was finalized.\n",
            "I0731 17:16:13.656118 139869363488640 saver.py:1280] Restoring parameters from /content/drive/My Drive/autoencoder_example/autoencoder_model_v1/model.ckpt-14700\n",
            "I0731 17:16:13.722414 139869363488640 session_manager.py:500] Running local_init_op.\n",
            "I0731 17:16:13.735986 139869363488640 session_manager.py:502] Done running local_init_op.\n",
            "I0731 17:16:42.556291 139869363488640 basic_session_run_hooks.py:606] Saving checkpoints for 14700 into /content/drive/My Drive/autoencoder_example/autoencoder_model_v1/model.ckpt.\n",
            "I0731 17:16:44.255755 139869363488640 basic_session_run_hooks.py:262] loss = 44.013718, step = 14701\n",
            "I0731 17:16:50.836570 139869363488640 basic_session_run_hooks.py:692] global_step/sec: 15.1948\n",
            "I0731 17:16:50.839862 139869363488640 basic_session_run_hooks.py:260] loss = 32.808846, step = 14801 (6.584 sec)\n",
            "I0731 17:16:58.126712 139869363488640 basic_session_run_hooks.py:692] global_step/sec: 13.7171\n",
            "I0731 17:16:58.129922 139869363488640 basic_session_run_hooks.py:260] loss = 34.68616, step = 14901 (7.290 sec)\n",
            "I0731 17:17:04.747713 139869363488640 basic_session_run_hooks.py:606] Saving checkpoints for 15000 into /content/drive/My Drive/autoencoder_example/autoencoder_model_v1/model.ckpt.\n",
            "I0731 17:17:05.412394 139869363488640 estimator.py:368] Loss for final step: 31.385403.\n",
            "I0731 17:17:05.535169 139869363488640 estimator.py:1145] Calling model_fn.\n",
            "I0731 17:17:05.578294 139869363488640 estimator.py:1147] Done calling model_fn.\n",
            "I0731 17:17:05.608009 139869363488640 evaluation.py:255] Starting evaluation at 2019-07-31T17:17:05Z\n"
          ],
          "name": "stderr"
        },
        {
          "output_type": "stream",
          "text": [
            "finish training\n"
          ],
          "name": "stdout"
        },
        {
          "output_type": "stream",
          "text": [
            "I0731 17:17:05.698710 139869363488640 monitored_session.py:240] Graph was finalized.\n",
            "I0731 17:17:05.708506 139869363488640 saver.py:1280] Restoring parameters from /content/drive/My Drive/autoencoder_example/autoencoder_model_v1/model.ckpt-15000\n",
            "I0731 17:17:05.743548 139869363488640 session_manager.py:500] Running local_init_op.\n",
            "I0731 17:17:05.757923 139869363488640 session_manager.py:502] Done running local_init_op.\n",
            "I0731 17:17:06.074498 139869363488640 evaluation.py:275] Finished evaluation at 2019-07-31-17:17:06\n",
            "I0731 17:17:06.076632 139869363488640 estimator.py:2039] Saving dict for global step 15000: global_step = 15000, loss = 31.96662\n",
            "I0731 17:17:06.084763 139869363488640 estimator.py:2099] Saving 'checkpoint_path' summary for global step 15000: /content/drive/My Drive/autoencoder_example/autoencoder_model_v1/model.ckpt-15000\n"
          ],
          "name": "stderr"
        },
        {
          "output_type": "stream",
          "text": [
            "finish evaluation\n"
          ],
          "name": "stdout"
        },
        {
          "output_type": "stream",
          "text": [
            "I0731 17:17:06.460917 139869363488640 estimator.py:1145] Calling model_fn.\n",
            "I0731 17:17:06.634923 139869363488640 estimator.py:1147] Done calling model_fn.\n",
            "I0731 17:17:06.639136 139869363488640 basic_session_run_hooks.py:541] Create CheckpointSaverHook.\n",
            "I0731 17:17:06.749852 139869363488640 monitored_session.py:240] Graph was finalized.\n",
            "I0731 17:17:06.764071 139869363488640 saver.py:1280] Restoring parameters from /content/drive/My Drive/autoencoder_example/autoencoder_model_v1/model.ckpt-15000\n",
            "I0731 17:17:06.835032 139869363488640 session_manager.py:500] Running local_init_op.\n",
            "I0731 17:17:06.848121 139869363488640 session_manager.py:502] Done running local_init_op.\n",
            "I0731 17:17:34.146222 139869363488640 basic_session_run_hooks.py:606] Saving checkpoints for 15000 into /content/drive/My Drive/autoencoder_example/autoencoder_model_v1/model.ckpt.\n",
            "I0731 17:17:35.790146 139869363488640 basic_session_run_hooks.py:262] loss = 43.588684, step = 15001\n",
            "I0731 17:17:42.505124 139869363488640 basic_session_run_hooks.py:692] global_step/sec: 14.8912\n",
            "I0731 17:17:42.508345 139869363488640 basic_session_run_hooks.py:260] loss = 32.39204, step = 15101 (6.718 sec)\n",
            "I0731 17:17:49.794852 139869363488640 basic_session_run_hooks.py:692] global_step/sec: 13.7178\n",
            "I0731 17:17:49.798038 139869363488640 basic_session_run_hooks.py:260] loss = 34.217545, step = 15201 (7.290 sec)\n",
            "I0731 17:17:56.754465 139869363488640 basic_session_run_hooks.py:606] Saving checkpoints for 15300 into /content/drive/My Drive/autoencoder_example/autoencoder_model_v1/model.ckpt.\n",
            "I0731 17:17:57.412586 139869363488640 estimator.py:368] Loss for final step: 30.942093.\n",
            "I0731 17:17:57.534090 139869363488640 estimator.py:1145] Calling model_fn.\n",
            "I0731 17:17:57.577272 139869363488640 estimator.py:1147] Done calling model_fn.\n",
            "I0731 17:17:57.605554 139869363488640 evaluation.py:255] Starting evaluation at 2019-07-31T17:17:57Z\n"
          ],
          "name": "stderr"
        },
        {
          "output_type": "stream",
          "text": [
            "finish training\n"
          ],
          "name": "stdout"
        },
        {
          "output_type": "stream",
          "text": [
            "I0731 17:17:57.696073 139869363488640 monitored_session.py:240] Graph was finalized.\n",
            "I0731 17:17:57.705592 139869363488640 saver.py:1280] Restoring parameters from /content/drive/My Drive/autoencoder_example/autoencoder_model_v1/model.ckpt-15300\n",
            "I0731 17:17:57.739675 139869363488640 session_manager.py:500] Running local_init_op.\n",
            "I0731 17:17:57.754721 139869363488640 session_manager.py:502] Done running local_init_op.\n",
            "I0731 17:17:58.066691 139869363488640 evaluation.py:275] Finished evaluation at 2019-07-31-17:17:58\n",
            "I0731 17:17:58.068824 139869363488640 estimator.py:2039] Saving dict for global step 15300: global_step = 15300, loss = 31.53293\n",
            "I0731 17:17:58.080501 139869363488640 estimator.py:2099] Saving 'checkpoint_path' summary for global step 15300: /content/drive/My Drive/autoencoder_example/autoencoder_model_v1/model.ckpt-15300\n"
          ],
          "name": "stderr"
        },
        {
          "output_type": "stream",
          "text": [
            "finish evaluation\n"
          ],
          "name": "stdout"
        },
        {
          "output_type": "stream",
          "text": [
            "I0731 17:17:58.682715 139869363488640 estimator.py:1145] Calling model_fn.\n",
            "I0731 17:17:58.852679 139869363488640 estimator.py:1147] Done calling model_fn.\n",
            "I0731 17:17:58.857145 139869363488640 basic_session_run_hooks.py:541] Create CheckpointSaverHook.\n",
            "I0731 17:17:58.969243 139869363488640 monitored_session.py:240] Graph was finalized.\n",
            "I0731 17:17:58.980823 139869363488640 saver.py:1280] Restoring parameters from /content/drive/My Drive/autoencoder_example/autoencoder_model_v1/model.ckpt-15300\n",
            "I0731 17:17:59.049696 139869363488640 session_manager.py:500] Running local_init_op.\n",
            "I0731 17:17:59.063915 139869363488640 session_manager.py:502] Done running local_init_op.\n",
            "I0731 17:18:26.217128 139869363488640 basic_session_run_hooks.py:606] Saving checkpoints for 15300 into /content/drive/My Drive/autoencoder_example/autoencoder_model_v1/model.ckpt.\n",
            "I0731 17:18:27.865430 139869363488640 basic_session_run_hooks.py:262] loss = 43.107788, step = 15301\n",
            "I0731 17:18:34.637509 139869363488640 basic_session_run_hooks.py:692] global_step/sec: 14.7658\n",
            "I0731 17:18:34.641672 139869363488640 basic_session_run_hooks.py:260] loss = 31.919695, step = 15401 (6.776 sec)\n",
            "I0731 17:18:41.503166 139869363488640 basic_session_run_hooks.py:692] global_step/sec: 14.5651\n",
            "I0731 17:18:41.506496 139869363488640 basic_session_run_hooks.py:260] loss = 33.687183, step = 15501 (6.865 sec)\n",
            "I0731 17:18:47.905165 139869363488640 basic_session_run_hooks.py:606] Saving checkpoints for 15600 into /content/drive/My Drive/autoencoder_example/autoencoder_model_v1/model.ckpt.\n",
            "I0731 17:18:48.559106 139869363488640 estimator.py:368] Loss for final step: 30.441486.\n",
            "I0731 17:18:48.698220 139869363488640 estimator.py:1145] Calling model_fn.\n",
            "I0731 17:18:48.740406 139869363488640 estimator.py:1147] Done calling model_fn.\n",
            "I0731 17:18:48.769342 139869363488640 evaluation.py:255] Starting evaluation at 2019-07-31T17:18:48Z\n"
          ],
          "name": "stderr"
        },
        {
          "output_type": "stream",
          "text": [
            "finish training\n"
          ],
          "name": "stdout"
        },
        {
          "output_type": "stream",
          "text": [
            "I0731 17:18:48.857509 139869363488640 monitored_session.py:240] Graph was finalized.\n",
            "I0731 17:18:48.866180 139869363488640 saver.py:1280] Restoring parameters from /content/drive/My Drive/autoencoder_example/autoencoder_model_v1/model.ckpt-15600\n",
            "I0731 17:18:48.901265 139869363488640 session_manager.py:500] Running local_init_op.\n",
            "I0731 17:18:48.915730 139869363488640 session_manager.py:502] Done running local_init_op.\n",
            "I0731 17:18:49.247831 139869363488640 evaluation.py:275] Finished evaluation at 2019-07-31-17:18:49\n",
            "I0731 17:18:49.250361 139869363488640 estimator.py:2039] Saving dict for global step 15600: global_step = 15600, loss = 31.043173\n",
            "I0731 17:18:49.263208 139869363488640 estimator.py:2099] Saving 'checkpoint_path' summary for global step 15600: /content/drive/My Drive/autoencoder_example/autoencoder_model_v1/model.ckpt-15600\n"
          ],
          "name": "stderr"
        },
        {
          "output_type": "stream",
          "text": [
            "finish evaluation\n"
          ],
          "name": "stdout"
        },
        {
          "output_type": "stream",
          "text": [
            "I0731 17:18:49.653922 139869363488640 estimator.py:1145] Calling model_fn.\n",
            "I0731 17:18:49.819432 139869363488640 estimator.py:1147] Done calling model_fn.\n",
            "I0731 17:18:49.824054 139869363488640 basic_session_run_hooks.py:541] Create CheckpointSaverHook.\n",
            "I0731 17:18:49.938699 139869363488640 monitored_session.py:240] Graph was finalized.\n",
            "I0731 17:18:49.951915 139869363488640 saver.py:1280] Restoring parameters from /content/drive/My Drive/autoencoder_example/autoencoder_model_v1/model.ckpt-15600\n",
            "I0731 17:18:50.018870 139869363488640 session_manager.py:500] Running local_init_op.\n",
            "I0731 17:18:50.032194 139869363488640 session_manager.py:502] Done running local_init_op.\n",
            "I0731 17:19:18.121984 139869363488640 basic_session_run_hooks.py:606] Saving checkpoints for 15600 into /content/drive/My Drive/autoencoder_example/autoencoder_model_v1/model.ckpt.\n",
            "I0731 17:19:19.782667 139869363488640 basic_session_run_hooks.py:262] loss = 42.565247, step = 15601\n",
            "I0731 17:19:26.371968 139869363488640 basic_session_run_hooks.py:692] global_step/sec: 15.1752\n",
            "I0731 17:19:26.376193 139869363488640 basic_session_run_hooks.py:260] loss = 31.387938, step = 15701 (6.594 sec)\n",
            "I0731 17:19:33.714137 139869363488640 basic_session_run_hooks.py:692] global_step/sec: 13.6199\n",
            "I0731 17:19:33.720868 139869363488640 basic_session_run_hooks.py:260] loss = 33.092274, step = 15801 (7.345 sec)\n",
            "I0731 17:19:40.270124 139869363488640 basic_session_run_hooks.py:606] Saving checkpoints for 15900 into /content/drive/My Drive/autoencoder_example/autoencoder_model_v1/model.ckpt.\n",
            "I0731 17:19:40.940786 139869363488640 estimator.py:368] Loss for final step: 29.882385.\n",
            "I0731 17:19:41.057591 139869363488640 estimator.py:1145] Calling model_fn.\n",
            "I0731 17:19:41.098931 139869363488640 estimator.py:1147] Done calling model_fn.\n",
            "I0731 17:19:41.127411 139869363488640 evaluation.py:255] Starting evaluation at 2019-07-31T17:19:41Z\n"
          ],
          "name": "stderr"
        },
        {
          "output_type": "stream",
          "text": [
            "finish training\n"
          ],
          "name": "stdout"
        },
        {
          "output_type": "stream",
          "text": [
            "I0731 17:19:41.218632 139869363488640 monitored_session.py:240] Graph was finalized.\n",
            "I0731 17:19:41.227643 139869363488640 saver.py:1280] Restoring parameters from /content/drive/My Drive/autoencoder_example/autoencoder_model_v1/model.ckpt-15900\n",
            "I0731 17:19:41.261983 139869363488640 session_manager.py:500] Running local_init_op.\n",
            "I0731 17:19:41.275594 139869363488640 session_manager.py:502] Done running local_init_op.\n",
            "I0731 17:19:41.595419 139869363488640 evaluation.py:275] Finished evaluation at 2019-07-31-17:19:41\n",
            "I0731 17:19:41.597547 139869363488640 estimator.py:2039] Saving dict for global step 15900: global_step = 15900, loss = 30.496088\n",
            "I0731 17:19:41.606082 139869363488640 estimator.py:2099] Saving 'checkpoint_path' summary for global step 15900: /content/drive/My Drive/autoencoder_example/autoencoder_model_v1/model.ckpt-15900\n"
          ],
          "name": "stderr"
        },
        {
          "output_type": "stream",
          "text": [
            "finish evaluation\n"
          ],
          "name": "stdout"
        },
        {
          "output_type": "stream",
          "text": [
            "I0731 17:19:42.001104 139869363488640 estimator.py:1145] Calling model_fn.\n",
            "I0731 17:19:42.166674 139869363488640 estimator.py:1147] Done calling model_fn.\n",
            "I0731 17:19:42.171003 139869363488640 basic_session_run_hooks.py:541] Create CheckpointSaverHook.\n",
            "I0731 17:19:42.471886 139869363488640 monitored_session.py:240] Graph was finalized.\n",
            "I0731 17:19:42.485288 139869363488640 saver.py:1280] Restoring parameters from /content/drive/My Drive/autoencoder_example/autoencoder_model_v1/model.ckpt-15900\n",
            "I0731 17:19:42.552962 139869363488640 session_manager.py:500] Running local_init_op.\n",
            "I0731 17:19:42.566154 139869363488640 session_manager.py:502] Done running local_init_op.\n",
            "I0731 17:20:09.662635 139869363488640 basic_session_run_hooks.py:606] Saving checkpoints for 15900 into /content/drive/My Drive/autoencoder_example/autoencoder_model_v1/model.ckpt.\n",
            "I0731 17:20:11.310886 139869363488640 basic_session_run_hooks.py:262] loss = 41.958855, step = 15901\n",
            "I0731 17:20:18.062674 139869363488640 basic_session_run_hooks.py:692] global_step/sec: 14.81\n",
            "I0731 17:20:18.066022 139869363488640 basic_session_run_hooks.py:260] loss = 30.797335, step = 16001 (6.755 sec)\n",
            "I0731 17:20:25.284240 139869363488640 basic_session_run_hooks.py:692] global_step/sec: 13.8474\n",
            "I0731 17:20:25.287189 139869363488640 basic_session_run_hooks.py:260] loss = 32.43534, step = 16101 (7.221 sec)\n",
            "I0731 17:20:31.797026 139869363488640 basic_session_run_hooks.py:606] Saving checkpoints for 16200 into /content/drive/My Drive/autoencoder_example/autoencoder_model_v1/model.ckpt.\n",
            "I0731 17:20:32.428089 139869363488640 estimator.py:368] Loss for final step: 29.268635.\n",
            "I0731 17:20:32.551369 139869363488640 estimator.py:1145] Calling model_fn.\n",
            "I0731 17:20:32.591929 139869363488640 estimator.py:1147] Done calling model_fn.\n",
            "I0731 17:20:32.621762 139869363488640 evaluation.py:255] Starting evaluation at 2019-07-31T17:20:32Z\n"
          ],
          "name": "stderr"
        },
        {
          "output_type": "stream",
          "text": [
            "finish training\n"
          ],
          "name": "stdout"
        },
        {
          "output_type": "stream",
          "text": [
            "I0731 17:20:32.709663 139869363488640 monitored_session.py:240] Graph was finalized.\n",
            "I0731 17:20:32.719572 139869363488640 saver.py:1280] Restoring parameters from /content/drive/My Drive/autoencoder_example/autoencoder_model_v1/model.ckpt-16200\n",
            "I0731 17:20:32.754217 139869363488640 session_manager.py:500] Running local_init_op.\n",
            "I0731 17:20:32.767998 139869363488640 session_manager.py:502] Done running local_init_op.\n",
            "I0731 17:20:33.087049 139869363488640 evaluation.py:275] Finished evaluation at 2019-07-31-17:20:33\n",
            "I0731 17:20:33.089112 139869363488640 estimator.py:2039] Saving dict for global step 16200: global_step = 16200, loss = 29.89538\n",
            "I0731 17:20:33.097824 139869363488640 estimator.py:2099] Saving 'checkpoint_path' summary for global step 16200: /content/drive/My Drive/autoencoder_example/autoencoder_model_v1/model.ckpt-16200\n"
          ],
          "name": "stderr"
        },
        {
          "output_type": "stream",
          "text": [
            "finish evaluation\n"
          ],
          "name": "stdout"
        },
        {
          "output_type": "stream",
          "text": [
            "I0731 17:20:33.470247 139869363488640 estimator.py:1145] Calling model_fn.\n",
            "I0731 17:20:33.640663 139869363488640 estimator.py:1147] Done calling model_fn.\n",
            "I0731 17:20:33.645056 139869363488640 basic_session_run_hooks.py:541] Create CheckpointSaverHook.\n",
            "I0731 17:20:33.756388 139869363488640 monitored_session.py:240] Graph was finalized.\n",
            "I0731 17:20:33.769723 139869363488640 saver.py:1280] Restoring parameters from /content/drive/My Drive/autoencoder_example/autoencoder_model_v1/model.ckpt-16200\n",
            "I0731 17:20:33.835248 139869363488640 session_manager.py:500] Running local_init_op.\n",
            "I0731 17:20:33.849622 139869363488640 session_manager.py:502] Done running local_init_op.\n",
            "I0731 17:21:01.034080 139869363488640 basic_session_run_hooks.py:606] Saving checkpoints for 16200 into /content/drive/My Drive/autoencoder_example/autoencoder_model_v1/model.ckpt.\n",
            "I0731 17:21:04.148458 139869363488640 basic_session_run_hooks.py:262] loss = 41.29161, step = 16201\n",
            "I0731 17:21:11.184129 139869363488640 basic_session_run_hooks.py:692] global_step/sec: 14.2127\n",
            "I0731 17:21:11.189839 139869363488640 basic_session_run_hooks.py:260] loss = 30.153912, step = 16301 (7.041 sec)\n",
            "I0731 17:21:18.086542 139869363488640 basic_session_run_hooks.py:692] global_step/sec: 14.4876\n",
            "I0731 17:21:18.095491 139869363488640 basic_session_run_hooks.py:260] loss = 31.724854, step = 16401 (6.906 sec)\n",
            "I0731 17:21:24.578925 139869363488640 basic_session_run_hooks.py:606] Saving checkpoints for 16500 into /content/drive/My Drive/autoencoder_example/autoencoder_model_v1/model.ckpt.\n",
            "I0731 17:21:25.253920 139869363488640 estimator.py:368] Loss for final step: 28.609129.\n",
            "I0731 17:21:25.371000 139869363488640 estimator.py:1145] Calling model_fn.\n",
            "I0731 17:21:25.418498 139869363488640 estimator.py:1147] Done calling model_fn.\n",
            "I0731 17:21:25.447142 139869363488640 evaluation.py:255] Starting evaluation at 2019-07-31T17:21:25Z\n"
          ],
          "name": "stderr"
        },
        {
          "output_type": "stream",
          "text": [
            "finish training\n"
          ],
          "name": "stdout"
        },
        {
          "output_type": "stream",
          "text": [
            "I0731 17:21:25.543599 139869363488640 monitored_session.py:240] Graph was finalized.\n",
            "I0731 17:21:25.553304 139869363488640 saver.py:1280] Restoring parameters from /content/drive/My Drive/autoencoder_example/autoencoder_model_v1/model.ckpt-16500\n",
            "I0731 17:21:25.589152 139869363488640 session_manager.py:500] Running local_init_op.\n",
            "I0731 17:21:25.603290 139869363488640 session_manager.py:502] Done running local_init_op.\n",
            "I0731 17:21:25.920917 139869363488640 evaluation.py:275] Finished evaluation at 2019-07-31-17:21:25\n",
            "I0731 17:21:25.923254 139869363488640 estimator.py:2039] Saving dict for global step 16500: global_step = 16500, loss = 29.249786\n",
            "I0731 17:21:25.926408 139869363488640 estimator.py:2099] Saving 'checkpoint_path' summary for global step 16500: /content/drive/My Drive/autoencoder_example/autoencoder_model_v1/model.ckpt-16500\n"
          ],
          "name": "stderr"
        },
        {
          "output_type": "stream",
          "text": [
            "finish evaluation\n"
          ],
          "name": "stdout"
        },
        {
          "output_type": "stream",
          "text": [
            "I0731 17:21:26.303578 139869363488640 estimator.py:1145] Calling model_fn.\n",
            "I0731 17:21:26.472027 139869363488640 estimator.py:1147] Done calling model_fn.\n",
            "I0731 17:21:26.476530 139869363488640 basic_session_run_hooks.py:541] Create CheckpointSaverHook.\n",
            "I0731 17:21:26.592834 139869363488640 monitored_session.py:240] Graph was finalized.\n",
            "I0731 17:21:26.607626 139869363488640 saver.py:1280] Restoring parameters from /content/drive/My Drive/autoencoder_example/autoencoder_model_v1/model.ckpt-16500\n",
            "I0731 17:21:26.672419 139869363488640 session_manager.py:500] Running local_init_op.\n",
            "I0731 17:21:26.684811 139869363488640 session_manager.py:502] Done running local_init_op.\n",
            "I0731 17:21:54.550543 139869363488640 basic_session_run_hooks.py:606] Saving checkpoints for 16500 into /content/drive/My Drive/autoencoder_example/autoencoder_model_v1/model.ckpt.\n",
            "I0731 17:21:57.616863 139869363488640 basic_session_run_hooks.py:262] loss = 40.57203, step = 16501\n",
            "I0731 17:22:04.554434 139869363488640 basic_session_run_hooks.py:692] global_step/sec: 14.4136\n",
            "I0731 17:22:04.559580 139869363488640 basic_session_run_hooks.py:260] loss = 29.468552, step = 16601 (6.943 sec)\n",
            "I0731 17:22:11.688267 139869363488640 basic_session_run_hooks.py:692] global_step/sec: 14.0175\n",
            "I0731 17:22:11.691463 139869363488640 basic_session_run_hooks.py:260] loss = 30.973898, step = 16701 (7.132 sec)\n",
            "I0731 17:22:18.249237 139869363488640 basic_session_run_hooks.py:606] Saving checkpoints for 16800 into /content/drive/My Drive/autoencoder_example/autoencoder_model_v1/model.ckpt.\n",
            "I0731 17:22:18.900553 139869363488640 estimator.py:368] Loss for final step: 27.916384.\n",
            "I0731 17:22:19.017285 139869363488640 estimator.py:1145] Calling model_fn.\n",
            "I0731 17:22:19.059067 139869363488640 estimator.py:1147] Done calling model_fn.\n",
            "I0731 17:22:19.088371 139869363488640 evaluation.py:255] Starting evaluation at 2019-07-31T17:22:19Z\n"
          ],
          "name": "stderr"
        },
        {
          "output_type": "stream",
          "text": [
            "finish training\n"
          ],
          "name": "stdout"
        },
        {
          "output_type": "stream",
          "text": [
            "I0731 17:22:19.184368 139869363488640 monitored_session.py:240] Graph was finalized.\n",
            "I0731 17:22:19.193607 139869363488640 saver.py:1280] Restoring parameters from /content/drive/My Drive/autoencoder_example/autoencoder_model_v1/model.ckpt-16800\n",
            "I0731 17:22:19.230997 139869363488640 session_manager.py:500] Running local_init_op.\n",
            "I0731 17:22:19.247827 139869363488640 session_manager.py:502] Done running local_init_op.\n",
            "I0731 17:22:19.719717 139869363488640 evaluation.py:275] Finished evaluation at 2019-07-31-17:22:19\n",
            "I0731 17:22:19.722077 139869363488640 estimator.py:2039] Saving dict for global step 16800: global_step = 16800, loss = 28.571548\n",
            "I0731 17:22:19.732301 139869363488640 estimator.py:2099] Saving 'checkpoint_path' summary for global step 16800: /content/drive/My Drive/autoencoder_example/autoencoder_model_v1/model.ckpt-16800\n"
          ],
          "name": "stderr"
        },
        {
          "output_type": "stream",
          "text": [
            "finish evaluation\n"
          ],
          "name": "stdout"
        },
        {
          "output_type": "stream",
          "text": [
            "I0731 17:22:20.269929 139869363488640 estimator.py:1145] Calling model_fn.\n",
            "I0731 17:22:20.651468 139869363488640 estimator.py:1147] Done calling model_fn.\n",
            "I0731 17:22:20.655859 139869363488640 basic_session_run_hooks.py:541] Create CheckpointSaverHook.\n",
            "I0731 17:22:20.779803 139869363488640 monitored_session.py:240] Graph was finalized.\n",
            "I0731 17:22:20.792032 139869363488640 saver.py:1280] Restoring parameters from /content/drive/My Drive/autoencoder_example/autoencoder_model_v1/model.ckpt-16800\n",
            "I0731 17:22:20.855826 139869363488640 session_manager.py:500] Running local_init_op.\n",
            "I0731 17:22:20.873873 139869363488640 session_manager.py:502] Done running local_init_op.\n",
            "I0731 17:22:48.463006 139869363488640 basic_session_run_hooks.py:606] Saving checkpoints for 16800 into /content/drive/My Drive/autoencoder_example/autoencoder_model_v1/model.ckpt.\n",
            "I0731 17:22:51.509896 139869363488640 basic_session_run_hooks.py:262] loss = 39.812725, step = 16801\n",
            "I0731 17:22:58.132134 139869363488640 basic_session_run_hooks.py:692] global_step/sec: 15.0997\n",
            "I0731 17:22:58.139309 139869363488640 basic_session_run_hooks.py:260] loss = 28.754917, step = 16901 (6.629 sec)\n",
            "I0731 17:23:05.291523 139869363488640 basic_session_run_hooks.py:692] global_step/sec: 13.9677\n",
            "I0731 17:23:05.294780 139869363488640 basic_session_run_hooks.py:260] loss = 30.197712, step = 17001 (7.155 sec)\n",
            "I0731 17:23:11.694069 139869363488640 basic_session_run_hooks.py:606] Saving checkpoints for 17100 into /content/drive/My Drive/autoencoder_example/autoencoder_model_v1/model.ckpt.\n",
            "I0731 17:23:12.322671 139869363488640 estimator.py:368] Loss for final step: 27.204178.\n",
            "I0731 17:23:12.449208 139869363488640 estimator.py:1145] Calling model_fn.\n",
            "I0731 17:23:12.490278 139869363488640 estimator.py:1147] Done calling model_fn.\n",
            "I0731 17:23:12.520135 139869363488640 evaluation.py:255] Starting evaluation at 2019-07-31T17:23:12Z\n"
          ],
          "name": "stderr"
        },
        {
          "output_type": "stream",
          "text": [
            "finish training\n"
          ],
          "name": "stdout"
        },
        {
          "output_type": "stream",
          "text": [
            "I0731 17:23:12.610446 139869363488640 monitored_session.py:240] Graph was finalized.\n",
            "I0731 17:23:12.620785 139869363488640 saver.py:1280] Restoring parameters from /content/drive/My Drive/autoencoder_example/autoencoder_model_v1/model.ckpt-17100\n",
            "I0731 17:23:12.656248 139869363488640 session_manager.py:500] Running local_init_op.\n",
            "I0731 17:23:12.669817 139869363488640 session_manager.py:502] Done running local_init_op.\n",
            "I0731 17:23:12.984397 139869363488640 evaluation.py:275] Finished evaluation at 2019-07-31-17:23:12\n",
            "I0731 17:23:12.986520 139869363488640 estimator.py:2039] Saving dict for global step 17100: global_step = 17100, loss = 27.874153\n",
            "I0731 17:23:12.994708 139869363488640 estimator.py:2099] Saving 'checkpoint_path' summary for global step 17100: /content/drive/My Drive/autoencoder_example/autoencoder_model_v1/model.ckpt-17100\n"
          ],
          "name": "stderr"
        },
        {
          "output_type": "stream",
          "text": [
            "finish evaluation\n"
          ],
          "name": "stdout"
        },
        {
          "output_type": "stream",
          "text": [
            "I0731 17:23:13.370675 139869363488640 estimator.py:1145] Calling model_fn.\n",
            "I0731 17:23:13.540055 139869363488640 estimator.py:1147] Done calling model_fn.\n",
            "I0731 17:23:13.544618 139869363488640 basic_session_run_hooks.py:541] Create CheckpointSaverHook.\n",
            "I0731 17:23:13.661316 139869363488640 monitored_session.py:240] Graph was finalized.\n",
            "I0731 17:23:13.675867 139869363488640 saver.py:1280] Restoring parameters from /content/drive/My Drive/autoencoder_example/autoencoder_model_v1/model.ckpt-17100\n",
            "I0731 17:23:13.746179 139869363488640 session_manager.py:500] Running local_init_op.\n",
            "I0731 17:23:13.759647 139869363488640 session_manager.py:502] Done running local_init_op.\n",
            "I0731 17:23:41.071694 139869363488640 basic_session_run_hooks.py:606] Saving checkpoints for 17100 into /content/drive/My Drive/autoencoder_example/autoencoder_model_v1/model.ckpt.\n",
            "I0731 17:23:44.202385 139869363488640 basic_session_run_hooks.py:262] loss = 39.027977, step = 17101\n",
            "I0731 17:23:51.116838 139869363488640 basic_session_run_hooks.py:692] global_step/sec: 14.4617\n",
            "I0731 17:23:51.124168 139869363488640 basic_session_run_hooks.py:260] loss = 28.027103, step = 17201 (6.922 sec)\n",
            "I0731 17:23:58.079066 139869363488640 basic_session_run_hooks.py:692] global_step/sec: 14.3632\n",
            "I0731 17:23:58.082773 139869363488640 basic_session_run_hooks.py:260] loss = 29.411177, step = 17301 (6.959 sec)\n",
            "I0731 17:24:04.538903 139869363488640 basic_session_run_hooks.py:606] Saving checkpoints for 17400 into /content/drive/My Drive/autoencoder_example/autoencoder_model_v1/model.ckpt.\n",
            "I0731 17:24:05.177675 139869363488640 estimator.py:368] Loss for final step: 26.485577.\n",
            "I0731 17:24:05.295070 139869363488640 estimator.py:1145] Calling model_fn.\n",
            "I0731 17:24:05.337449 139869363488640 estimator.py:1147] Done calling model_fn.\n",
            "I0731 17:24:05.365955 139869363488640 evaluation.py:255] Starting evaluation at 2019-07-31T17:24:05Z\n"
          ],
          "name": "stderr"
        },
        {
          "output_type": "stream",
          "text": [
            "finish training\n"
          ],
          "name": "stdout"
        },
        {
          "output_type": "stream",
          "text": [
            "I0731 17:24:05.455904 139869363488640 monitored_session.py:240] Graph was finalized.\n",
            "I0731 17:24:05.466884 139869363488640 saver.py:1280] Restoring parameters from /content/drive/My Drive/autoencoder_example/autoencoder_model_v1/model.ckpt-17400\n",
            "I0731 17:24:05.503830 139869363488640 session_manager.py:500] Running local_init_op.\n",
            "I0731 17:24:05.517667 139869363488640 session_manager.py:502] Done running local_init_op.\n",
            "I0731 17:24:05.838231 139869363488640 evaluation.py:275] Finished evaluation at 2019-07-31-17:24:05\n",
            "I0731 17:24:05.840440 139869363488640 estimator.py:2039] Saving dict for global step 17400: global_step = 17400, loss = 27.17035\n",
            "I0731 17:24:05.849619 139869363488640 estimator.py:2099] Saving 'checkpoint_path' summary for global step 17400: /content/drive/My Drive/autoencoder_example/autoencoder_model_v1/model.ckpt-17400\n"
          ],
          "name": "stderr"
        },
        {
          "output_type": "stream",
          "text": [
            "finish evaluation\n"
          ],
          "name": "stdout"
        },
        {
          "output_type": "stream",
          "text": [
            "I0731 17:24:06.219249 139869363488640 estimator.py:1145] Calling model_fn.\n",
            "I0731 17:24:06.387678 139869363488640 estimator.py:1147] Done calling model_fn.\n",
            "I0731 17:24:06.391967 139869363488640 basic_session_run_hooks.py:541] Create CheckpointSaverHook.\n",
            "I0731 17:24:06.503644 139869363488640 monitored_session.py:240] Graph was finalized.\n",
            "I0731 17:24:06.516335 139869363488640 saver.py:1280] Restoring parameters from /content/drive/My Drive/autoencoder_example/autoencoder_model_v1/model.ckpt-17400\n",
            "I0731 17:24:06.583737 139869363488640 session_manager.py:500] Running local_init_op.\n",
            "I0731 17:24:06.597195 139869363488640 session_manager.py:502] Done running local_init_op.\n",
            "I0731 17:24:34.205943 139869363488640 basic_session_run_hooks.py:606] Saving checkpoints for 17400 into /content/drive/My Drive/autoencoder_example/autoencoder_model_v1/model.ckpt.\n",
            "I0731 17:24:37.175626 139869363488640 basic_session_run_hooks.py:262] loss = 38.23158, step = 17401\n",
            "I0731 17:24:43.614922 139869363488640 basic_session_run_hooks.py:692] global_step/sec: 15.5287\n",
            "I0731 17:24:43.618003 139869363488640 basic_session_run_hooks.py:260] loss = 27.297771, step = 17501 (6.442 sec)\n",
            "I0731 17:24:50.944998 139869363488640 basic_session_run_hooks.py:692] global_step/sec: 13.6424\n",
            "I0731 17:24:50.948114 139869363488640 basic_session_run_hooks.py:260] loss = 28.627163, step = 17601 (7.330 sec)\n",
            "I0731 17:24:57.374774 139869363488640 basic_session_run_hooks.py:606] Saving checkpoints for 17700 into /content/drive/My Drive/autoencoder_example/autoencoder_model_v1/model.ckpt.\n",
            "I0731 17:24:58.020083 139869363488640 estimator.py:368] Loss for final step: 25.771648.\n",
            "I0731 17:24:58.138083 139869363488640 estimator.py:1145] Calling model_fn.\n",
            "I0731 17:24:58.178985 139869363488640 estimator.py:1147] Done calling model_fn.\n",
            "I0731 17:24:58.207889 139869363488640 evaluation.py:255] Starting evaluation at 2019-07-31T17:24:58Z\n"
          ],
          "name": "stderr"
        },
        {
          "output_type": "stream",
          "text": [
            "finish training\n"
          ],
          "name": "stdout"
        },
        {
          "output_type": "stream",
          "text": [
            "I0731 17:24:58.300306 139869363488640 monitored_session.py:240] Graph was finalized.\n",
            "I0731 17:24:58.311281 139869363488640 saver.py:1280] Restoring parameters from /content/drive/My Drive/autoencoder_example/autoencoder_model_v1/model.ckpt-17700\n",
            "I0731 17:24:58.344355 139869363488640 session_manager.py:500] Running local_init_op.\n",
            "I0731 17:24:58.359175 139869363488640 session_manager.py:502] Done running local_init_op.\n",
            "I0731 17:24:58.679972 139869363488640 evaluation.py:275] Finished evaluation at 2019-07-31-17:24:58\n",
            "I0731 17:24:58.682133 139869363488640 estimator.py:2039] Saving dict for global step 17700: global_step = 17700, loss = 26.470884\n",
            "I0731 17:24:58.690604 139869363488640 estimator.py:2099] Saving 'checkpoint_path' summary for global step 17700: /content/drive/My Drive/autoencoder_example/autoencoder_model_v1/model.ckpt-17700\n"
          ],
          "name": "stderr"
        },
        {
          "output_type": "stream",
          "text": [
            "finish evaluation\n"
          ],
          "name": "stdout"
        },
        {
          "output_type": "stream",
          "text": [
            "I0731 17:24:59.069986 139869363488640 estimator.py:1145] Calling model_fn.\n",
            "I0731 17:24:59.240955 139869363488640 estimator.py:1147] Done calling model_fn.\n",
            "I0731 17:24:59.245403 139869363488640 basic_session_run_hooks.py:541] Create CheckpointSaverHook.\n",
            "I0731 17:24:59.355830 139869363488640 monitored_session.py:240] Graph was finalized.\n",
            "I0731 17:24:59.368454 139869363488640 saver.py:1280] Restoring parameters from /content/drive/My Drive/autoencoder_example/autoencoder_model_v1/model.ckpt-17700\n",
            "I0731 17:24:59.439125 139869363488640 session_manager.py:500] Running local_init_op.\n",
            "I0731 17:24:59.452459 139869363488640 session_manager.py:502] Done running local_init_op.\n",
            "I0731 17:25:27.717059 139869363488640 basic_session_run_hooks.py:606] Saving checkpoints for 17700 into /content/drive/My Drive/autoencoder_example/autoencoder_model_v1/model.ckpt.\n",
            "I0731 17:25:29.283999 139869363488640 basic_session_run_hooks.py:262] loss = 37.435387, step = 17701\n",
            "I0731 17:25:36.004519 139869363488640 basic_session_run_hooks.py:692] global_step/sec: 14.8784\n",
            "I0731 17:25:36.010158 139869363488640 basic_session_run_hooks.py:260] loss = 26.577232, step = 17801 (6.726 sec)\n",
            "I0731 17:25:42.980776 139869363488640 basic_session_run_hooks.py:692] global_step/sec: 14.3342\n",
            "I0731 17:25:42.986508 139869363488640 basic_session_run_hooks.py:260] loss = 27.855824, step = 17901 (6.976 sec)\n",
            "I0731 17:25:49.396411 139869363488640 basic_session_run_hooks.py:606] Saving checkpoints for 18000 into /content/drive/My Drive/autoencoder_example/autoencoder_model_v1/model.ckpt.\n",
            "I0731 17:25:50.074118 139869363488640 estimator.py:368] Loss for final step: 25.070953.\n",
            "I0731 17:25:50.195036 139869363488640 estimator.py:1145] Calling model_fn.\n",
            "I0731 17:25:50.235313 139869363488640 estimator.py:1147] Done calling model_fn.\n",
            "I0731 17:25:50.264574 139869363488640 evaluation.py:255] Starting evaluation at 2019-07-31T17:25:50Z\n"
          ],
          "name": "stderr"
        },
        {
          "output_type": "stream",
          "text": [
            "finish training\n"
          ],
          "name": "stdout"
        },
        {
          "output_type": "stream",
          "text": [
            "I0731 17:25:50.353005 139869363488640 monitored_session.py:240] Graph was finalized.\n",
            "I0731 17:25:50.362758 139869363488640 saver.py:1280] Restoring parameters from /content/drive/My Drive/autoencoder_example/autoencoder_model_v1/model.ckpt-18000\n",
            "I0731 17:25:50.395589 139869363488640 session_manager.py:500] Running local_init_op.\n",
            "I0731 17:25:50.412024 139869363488640 session_manager.py:502] Done running local_init_op.\n",
            "I0731 17:25:50.724111 139869363488640 evaluation.py:275] Finished evaluation at 2019-07-31-17:25:50\n",
            "I0731 17:25:50.726114 139869363488640 estimator.py:2039] Saving dict for global step 18000: global_step = 18000, loss = 25.78411\n",
            "I0731 17:25:50.734194 139869363488640 estimator.py:2099] Saving 'checkpoint_path' summary for global step 18000: /content/drive/My Drive/autoencoder_example/autoencoder_model_v1/model.ckpt-18000\n"
          ],
          "name": "stderr"
        },
        {
          "output_type": "stream",
          "text": [
            "finish evaluation\n"
          ],
          "name": "stdout"
        },
        {
          "output_type": "stream",
          "text": [
            "I0731 17:25:51.105414 139869363488640 estimator.py:1145] Calling model_fn.\n",
            "I0731 17:25:51.273059 139869363488640 estimator.py:1147] Done calling model_fn.\n",
            "I0731 17:25:51.277407 139869363488640 basic_session_run_hooks.py:541] Create CheckpointSaverHook.\n",
            "I0731 17:25:51.390215 139869363488640 monitored_session.py:240] Graph was finalized.\n",
            "I0731 17:25:51.403508 139869363488640 saver.py:1280] Restoring parameters from /content/drive/My Drive/autoencoder_example/autoencoder_model_v1/model.ckpt-18000\n",
            "I0731 17:25:51.477913 139869363488640 session_manager.py:500] Running local_init_op.\n",
            "I0731 17:25:51.494375 139869363488640 session_manager.py:502] Done running local_init_op.\n",
            "I0731 17:26:20.515024 139869363488640 basic_session_run_hooks.py:606] Saving checkpoints for 18000 into /content/drive/My Drive/autoencoder_example/autoencoder_model_v1/model.ckpt.\n",
            "I0731 17:26:22.084976 139869363488640 basic_session_run_hooks.py:262] loss = 36.64881, step = 18001\n",
            "I0731 17:26:28.629295 139869363488640 basic_session_run_hooks.py:692] global_step/sec: 15.2795\n",
            "I0731 17:26:28.634619 139869363488640 basic_session_run_hooks.py:260] loss = 25.873228, step = 18101 (6.550 sec)\n",
            "I0731 17:26:35.789774 139869363488640 basic_session_run_hooks.py:692] global_step/sec: 13.9655\n",
            "I0731 17:26:35.798948 139869363488640 basic_session_run_hooks.py:260] loss = 27.104568, step = 18201 (7.164 sec)\n",
            "I0731 17:26:42.200250 139869363488640 basic_session_run_hooks.py:606] Saving checkpoints for 18300 into /content/drive/My Drive/autoencoder_example/autoencoder_model_v1/model.ckpt.\n",
            "I0731 17:26:42.885273 139869363488640 estimator.py:368] Loss for final step: 24.38969.\n",
            "I0731 17:26:43.004873 139869363488640 estimator.py:1145] Calling model_fn.\n",
            "I0731 17:26:43.046145 139869363488640 estimator.py:1147] Done calling model_fn.\n",
            "I0731 17:26:43.074715 139869363488640 evaluation.py:255] Starting evaluation at 2019-07-31T17:26:43Z\n"
          ],
          "name": "stderr"
        },
        {
          "output_type": "stream",
          "text": [
            "finish training\n"
          ],
          "name": "stdout"
        },
        {
          "output_type": "stream",
          "text": [
            "I0731 17:26:43.163344 139869363488640 monitored_session.py:240] Graph was finalized.\n",
            "I0731 17:26:43.172404 139869363488640 saver.py:1280] Restoring parameters from /content/drive/My Drive/autoencoder_example/autoencoder_model_v1/model.ckpt-18300\n",
            "I0731 17:26:43.206190 139869363488640 session_manager.py:500] Running local_init_op.\n",
            "I0731 17:26:43.224062 139869363488640 session_manager.py:502] Done running local_init_op.\n",
            "I0731 17:26:43.531606 139869363488640 evaluation.py:275] Finished evaluation at 2019-07-31-17:26:43\n",
            "I0731 17:26:43.533811 139869363488640 estimator.py:2039] Saving dict for global step 18300: global_step = 18300, loss = 25.116028\n",
            "I0731 17:26:43.545030 139869363488640 estimator.py:2099] Saving 'checkpoint_path' summary for global step 18300: /content/drive/My Drive/autoencoder_example/autoencoder_model_v1/model.ckpt-18300\n"
          ],
          "name": "stderr"
        },
        {
          "output_type": "stream",
          "text": [
            "finish evaluation\n"
          ],
          "name": "stdout"
        },
        {
          "output_type": "stream",
          "text": [
            "I0731 17:26:43.926933 139869363488640 estimator.py:1145] Calling model_fn.\n",
            "I0731 17:26:44.314165 139869363488640 estimator.py:1147] Done calling model_fn.\n",
            "I0731 17:26:44.318380 139869363488640 basic_session_run_hooks.py:541] Create CheckpointSaverHook.\n",
            "I0731 17:26:44.431263 139869363488640 monitored_session.py:240] Graph was finalized.\n",
            "I0731 17:26:44.445202 139869363488640 saver.py:1280] Restoring parameters from /content/drive/My Drive/autoencoder_example/autoencoder_model_v1/model.ckpt-18300\n",
            "I0731 17:26:44.509146 139869363488640 session_manager.py:500] Running local_init_op.\n",
            "I0731 17:26:44.521042 139869363488640 session_manager.py:502] Done running local_init_op.\n",
            "I0731 17:27:11.757853 139869363488640 basic_session_run_hooks.py:606] Saving checkpoints for 18300 into /content/drive/My Drive/autoencoder_example/autoencoder_model_v1/model.ckpt.\n",
            "I0731 17:27:13.394603 139869363488640 basic_session_run_hooks.py:262] loss = 35.878822, step = 18301\n",
            "I0731 17:27:19.835998 139869363488640 basic_session_run_hooks.py:692] global_step/sec: 15.5237\n",
            "I0731 17:27:19.840034 139869363488640 basic_session_run_hooks.py:260] loss = 25.191153, step = 18401 (6.445 sec)\n",
            "I0731 17:27:26.865106 139869363488640 basic_session_run_hooks.py:692] global_step/sec: 14.2265\n",
            "I0731 17:27:26.870071 139869363488640 basic_session_run_hooks.py:260] loss = 26.37846, step = 18501 (7.030 sec)\n",
            "I0731 17:27:33.240235 139869363488640 basic_session_run_hooks.py:606] Saving checkpoints for 18600 into /content/drive/My Drive/autoencoder_example/autoencoder_model_v1/model.ckpt.\n",
            "I0731 17:27:33.879456 139869363488640 estimator.py:368] Loss for final step: 23.732027.\n",
            "I0731 17:27:33.996450 139869363488640 estimator.py:1145] Calling model_fn.\n",
            "I0731 17:27:34.036680 139869363488640 estimator.py:1147] Done calling model_fn.\n",
            "I0731 17:27:34.064469 139869363488640 evaluation.py:255] Starting evaluation at 2019-07-31T17:27:34Z\n"
          ],
          "name": "stderr"
        },
        {
          "output_type": "stream",
          "text": [
            "finish training\n"
          ],
          "name": "stdout"
        },
        {
          "output_type": "stream",
          "text": [
            "I0731 17:27:34.152560 139869363488640 monitored_session.py:240] Graph was finalized.\n",
            "I0731 17:27:34.162892 139869363488640 saver.py:1280] Restoring parameters from /content/drive/My Drive/autoencoder_example/autoencoder_model_v1/model.ckpt-18600\n",
            "I0731 17:27:34.196277 139869363488640 session_manager.py:500] Running local_init_op.\n",
            "I0731 17:27:34.209674 139869363488640 session_manager.py:502] Done running local_init_op.\n",
            "I0731 17:27:34.527584 139869363488640 evaluation.py:275] Finished evaluation at 2019-07-31-17:27:34\n",
            "I0731 17:27:34.529735 139869363488640 estimator.py:2039] Saving dict for global step 18600: global_step = 18600, loss = 24.470705\n",
            "I0731 17:27:34.538069 139869363488640 estimator.py:2099] Saving 'checkpoint_path' summary for global step 18600: /content/drive/My Drive/autoencoder_example/autoencoder_model_v1/model.ckpt-18600\n"
          ],
          "name": "stderr"
        },
        {
          "output_type": "stream",
          "text": [
            "finish evaluation\n"
          ],
          "name": "stdout"
        },
        {
          "output_type": "stream",
          "text": [
            "I0731 17:27:34.908283 139869363488640 estimator.py:1145] Calling model_fn.\n",
            "I0731 17:27:35.073670 139869363488640 estimator.py:1147] Done calling model_fn.\n",
            "I0731 17:27:35.077992 139869363488640 basic_session_run_hooks.py:541] Create CheckpointSaverHook.\n",
            "I0731 17:27:35.190335 139869363488640 monitored_session.py:240] Graph was finalized.\n",
            "I0731 17:27:35.203718 139869363488640 saver.py:1280] Restoring parameters from /content/drive/My Drive/autoencoder_example/autoencoder_model_v1/model.ckpt-18600\n",
            "I0731 17:27:35.272042 139869363488640 session_manager.py:500] Running local_init_op.\n",
            "I0731 17:27:35.285783 139869363488640 session_manager.py:502] Done running local_init_op.\n",
            "I0731 17:28:02.483155 139869363488640 basic_session_run_hooks.py:606] Saving checkpoints for 18600 into /content/drive/My Drive/autoencoder_example/autoencoder_model_v1/model.ckpt.\n",
            "I0731 17:28:04.063192 139869363488640 basic_session_run_hooks.py:262] loss = 35.130287, step = 18601\n",
            "I0731 17:28:10.877166 139869363488640 basic_session_run_hooks.py:692] global_step/sec: 14.6749\n",
            "I0731 17:28:10.880942 139869363488640 basic_session_run_hooks.py:260] loss = 24.534508, step = 18701 (6.818 sec)\n",
            "I0731 17:28:17.800948 139869363488640 basic_session_run_hooks.py:692] global_step/sec: 14.4429\n",
            "I0731 17:28:17.809510 139869363488640 basic_session_run_hooks.py:260] loss = 25.680685, step = 18801 (6.929 sec)\n",
            "I0731 17:28:24.231485 139869363488640 basic_session_run_hooks.py:606] Saving checkpoints for 18900 into /content/drive/My Drive/autoencoder_example/autoencoder_model_v1/model.ckpt.\n",
            "I0731 17:28:24.877648 139869363488640 estimator.py:368] Loss for final step: 23.100533.\n",
            "I0731 17:28:24.998646 139869363488640 estimator.py:1145] Calling model_fn.\n",
            "I0731 17:28:25.039403 139869363488640 estimator.py:1147] Done calling model_fn.\n",
            "I0731 17:28:25.068907 139869363488640 evaluation.py:255] Starting evaluation at 2019-07-31T17:28:25Z\n"
          ],
          "name": "stderr"
        },
        {
          "output_type": "stream",
          "text": [
            "finish training\n"
          ],
          "name": "stdout"
        },
        {
          "output_type": "stream",
          "text": [
            "I0731 17:28:25.156931 139869363488640 monitored_session.py:240] Graph was finalized.\n",
            "I0731 17:28:25.166242 139869363488640 saver.py:1280] Restoring parameters from /content/drive/My Drive/autoencoder_example/autoencoder_model_v1/model.ckpt-18900\n",
            "I0731 17:28:25.199757 139869363488640 session_manager.py:500] Running local_init_op.\n",
            "I0731 17:28:25.219577 139869363488640 session_manager.py:502] Done running local_init_op.\n",
            "I0731 17:28:25.542796 139869363488640 evaluation.py:275] Finished evaluation at 2019-07-31-17:28:25\n",
            "I0731 17:28:25.545068 139869363488640 estimator.py:2039] Saving dict for global step 18900: global_step = 18900, loss = 23.850649\n",
            "I0731 17:28:25.556736 139869363488640 estimator.py:2099] Saving 'checkpoint_path' summary for global step 18900: /content/drive/My Drive/autoencoder_example/autoencoder_model_v1/model.ckpt-18900\n"
          ],
          "name": "stderr"
        },
        {
          "output_type": "stream",
          "text": [
            "finish evaluation\n"
          ],
          "name": "stdout"
        },
        {
          "output_type": "stream",
          "text": [
            "I0731 17:28:25.927111 139869363488640 estimator.py:1145] Calling model_fn.\n",
            "I0731 17:28:26.090796 139869363488640 estimator.py:1147] Done calling model_fn.\n",
            "I0731 17:28:26.095326 139869363488640 basic_session_run_hooks.py:541] Create CheckpointSaverHook.\n",
            "I0731 17:28:26.208099 139869363488640 monitored_session.py:240] Graph was finalized.\n",
            "I0731 17:28:26.223761 139869363488640 saver.py:1280] Restoring parameters from /content/drive/My Drive/autoencoder_example/autoencoder_model_v1/model.ckpt-18900\n",
            "I0731 17:28:26.291098 139869363488640 session_manager.py:500] Running local_init_op.\n",
            "I0731 17:28:26.306150 139869363488640 session_manager.py:502] Done running local_init_op.\n",
            "I0731 17:28:54.515127 139869363488640 basic_session_run_hooks.py:606] Saving checkpoints for 18900 into /content/drive/My Drive/autoencoder_example/autoencoder_model_v1/model.ckpt.\n",
            "I0731 17:28:56.150145 139869363488640 basic_session_run_hooks.py:262] loss = 34.406403, step = 18901\n",
            "I0731 17:29:02.807371 139869363488640 basic_session_run_hooks.py:692] global_step/sec: 15.0205\n",
            "I0731 17:29:02.815694 139869363488640 basic_session_run_hooks.py:260] loss = 23.90535, step = 19001 (6.666 sec)\n",
            "I0731 17:29:10.054211 139869363488640 basic_session_run_hooks.py:692] global_step/sec: 13.7991\n",
            "I0731 17:29:10.071312 139869363488640 basic_session_run_hooks.py:260] loss = 25.012993, step = 19101 (7.256 sec)\n",
            "I0731 17:29:16.594412 139869363488640 basic_session_run_hooks.py:606] Saving checkpoints for 19200 into /content/drive/My Drive/autoencoder_example/autoencoder_model_v1/model.ckpt.\n",
            "I0731 17:29:17.255172 139869363488640 estimator.py:368] Loss for final step: 22.496565.\n",
            "I0731 17:29:17.378840 139869363488640 estimator.py:1145] Calling model_fn.\n"
          ],
          "name": "stderr"
        },
        {
          "output_type": "stream",
          "text": [
            "finish training\n"
          ],
          "name": "stdout"
        },
        {
          "output_type": "stream",
          "text": [
            "I0731 17:29:17.640894 139869363488640 estimator.py:1147] Done calling model_fn.\n",
            "I0731 17:29:17.668804 139869363488640 evaluation.py:255] Starting evaluation at 2019-07-31T17:29:17Z\n",
            "I0731 17:29:17.753856 139869363488640 monitored_session.py:240] Graph was finalized.\n",
            "I0731 17:29:17.763617 139869363488640 saver.py:1280] Restoring parameters from /content/drive/My Drive/autoencoder_example/autoencoder_model_v1/model.ckpt-19200\n",
            "I0731 17:29:17.796823 139869363488640 session_manager.py:500] Running local_init_op.\n",
            "I0731 17:29:17.810312 139869363488640 session_manager.py:502] Done running local_init_op.\n",
            "I0731 17:29:18.125536 139869363488640 evaluation.py:275] Finished evaluation at 2019-07-31-17:29:18\n",
            "I0731 17:29:18.127548 139869363488640 estimator.py:2039] Saving dict for global step 19200: global_step = 19200, loss = 23.257208\n",
            "I0731 17:29:18.135461 139869363488640 estimator.py:2099] Saving 'checkpoint_path' summary for global step 19200: /content/drive/My Drive/autoencoder_example/autoencoder_model_v1/model.ckpt-19200\n"
          ],
          "name": "stderr"
        },
        {
          "output_type": "stream",
          "text": [
            "finish evaluation\n"
          ],
          "name": "stdout"
        },
        {
          "output_type": "stream",
          "text": [
            "I0731 17:29:18.506091 139869363488640 estimator.py:1145] Calling model_fn.\n",
            "I0731 17:29:18.674412 139869363488640 estimator.py:1147] Done calling model_fn.\n",
            "I0731 17:29:18.678725 139869363488640 basic_session_run_hooks.py:541] Create CheckpointSaverHook.\n",
            "I0731 17:29:18.788205 139869363488640 monitored_session.py:240] Graph was finalized.\n",
            "I0731 17:29:18.800967 139869363488640 saver.py:1280] Restoring parameters from /content/drive/My Drive/autoencoder_example/autoencoder_model_v1/model.ckpt-19200\n",
            "I0731 17:29:18.865660 139869363488640 session_manager.py:500] Running local_init_op.\n",
            "I0731 17:29:18.877032 139869363488640 session_manager.py:502] Done running local_init_op.\n",
            "I0731 17:29:46.413054 139869363488640 basic_session_run_hooks.py:606] Saving checkpoints for 19200 into /content/drive/My Drive/autoencoder_example/autoencoder_model_v1/model.ckpt.\n",
            "I0731 17:29:49.613010 139869363488640 basic_session_run_hooks.py:262] loss = 33.70906, step = 19201\n",
            "I0731 17:29:56.450500 139869363488640 basic_session_run_hooks.py:692] global_step/sec: 14.6245\n",
            "I0731 17:29:56.461092 139869363488640 basic_session_run_hooks.py:260] loss = 23.304592, step = 19301 (6.848 sec)\n",
            "I0731 17:30:03.436455 139869363488640 basic_session_run_hooks.py:692] global_step/sec: 14.3143\n",
            "I0731 17:30:03.439918 139869363488640 basic_session_run_hooks.py:260] loss = 24.37608, step = 19401 (6.979 sec)\n",
            "I0731 17:30:09.887863 139869363488640 basic_session_run_hooks.py:606] Saving checkpoints for 19500 into /content/drive/My Drive/autoencoder_example/autoencoder_model_v1/model.ckpt.\n",
            "I0731 17:30:10.537436 139869363488640 estimator.py:368] Loss for final step: 21.92055.\n",
            "I0731 17:30:10.663702 139869363488640 estimator.py:1145] Calling model_fn.\n",
            "I0731 17:30:10.704078 139869363488640 estimator.py:1147] Done calling model_fn.\n",
            "I0731 17:30:10.731835 139869363488640 evaluation.py:255] Starting evaluation at 2019-07-31T17:30:10Z\n"
          ],
          "name": "stderr"
        },
        {
          "output_type": "stream",
          "text": [
            "finish training\n"
          ],
          "name": "stdout"
        },
        {
          "output_type": "stream",
          "text": [
            "I0731 17:30:10.819940 139869363488640 monitored_session.py:240] Graph was finalized.\n",
            "I0731 17:30:10.829057 139869363488640 saver.py:1280] Restoring parameters from /content/drive/My Drive/autoencoder_example/autoencoder_model_v1/model.ckpt-19500\n",
            "I0731 17:30:10.865365 139869363488640 session_manager.py:500] Running local_init_op.\n",
            "I0731 17:30:10.878200 139869363488640 session_manager.py:502] Done running local_init_op.\n",
            "I0731 17:30:11.191250 139869363488640 evaluation.py:275] Finished evaluation at 2019-07-31-17:30:11\n",
            "I0731 17:30:11.193205 139869363488640 estimator.py:2039] Saving dict for global step 19500: global_step = 19500, loss = 22.690826\n",
            "I0731 17:30:11.201176 139869363488640 estimator.py:2099] Saving 'checkpoint_path' summary for global step 19500: /content/drive/My Drive/autoencoder_example/autoencoder_model_v1/model.ckpt-19500\n"
          ],
          "name": "stderr"
        },
        {
          "output_type": "stream",
          "text": [
            "finish evaluation\n"
          ],
          "name": "stdout"
        },
        {
          "output_type": "stream",
          "text": [
            "I0731 17:30:11.584583 139869363488640 estimator.py:1145] Calling model_fn.\n",
            "I0731 17:30:11.748768 139869363488640 estimator.py:1147] Done calling model_fn.\n",
            "I0731 17:30:11.752959 139869363488640 basic_session_run_hooks.py:541] Create CheckpointSaverHook.\n",
            "I0731 17:30:11.868121 139869363488640 monitored_session.py:240] Graph was finalized.\n",
            "I0731 17:30:11.878730 139869363488640 saver.py:1280] Restoring parameters from /content/drive/My Drive/autoencoder_example/autoencoder_model_v1/model.ckpt-19500\n",
            "I0731 17:30:11.943085 139869363488640 session_manager.py:500] Running local_init_op.\n",
            "I0731 17:30:11.955205 139869363488640 session_manager.py:502] Done running local_init_op.\n"
          ],
          "name": "stderr"
        }
      ]
    },
    {
      "cell_type": "markdown",
      "metadata": {
        "id": "yiATQ3uCwn2H",
        "colab_type": "text"
      },
      "source": [
        "# Tuning Threshold"
      ]
    },
    {
      "cell_type": "code",
      "metadata": {
        "id": "m8FHfb2jxyTs",
        "colab_type": "code",
        "colab": {
          "base_uri": "https://localhost:8080/",
          "height": 214
        },
        "outputId": "fe4e9c21-7b33-4bd4-c888-99a47e554ba9"
      },
      "source": [
        "train_pred = ae.predict(sc.transform(train_X),batch_size=20000)\n",
        "\n",
        "pred_mse = []\n",
        "pred_X_clone = []\n",
        "\n",
        "for tp in train_pred:\n",
        "  pred_mse.append( tp['mse'] )\n",
        "  pred_X_clone.append( tp['Z'] )\n",
        "\n",
        "train_pred_X_clone = np.array(pred_X_clone)\n",
        "\n",
        "tune_df = pd.DataFrame({'mse':pred_mse,'y':train_y.tolist()})\n",
        "\n",
        "precisions, recalls, thresholds = precision_recall_curve(y_true=tune_df.y,probas_pred=tune_df.mse)\n",
        "\n",
        "precisions = precisions[:-1]\n",
        "recalls = recalls[:-1]\n",
        "\n",
        "f1 = 2 * precisions * recalls / (recalls + precisions)\n",
        "\n",
        "threshold_df = pd.DataFrame({'precision':precisions,'recall':recalls,'f1':f1},index=thresholds)\n",
        "\n",
        "\n",
        "########selecting best thres\n",
        "best_thres = threshold_df.f1.idxmax()\n",
        "# best_thres = threshold_df.recall.idxmax()\n",
        "# best_thres = threshold_df.precision.idxmax()\n",
        "\n",
        "#######threshold evaluation on training\n",
        "tune_df['y_pred'] = (tune_df.mse >= best_thres).astype('int')\n",
        "print('best mse threshold = ',best_thres)\n",
        "print( precision_score(y_true=tune_df.y,y_pred=tune_df.y_pred),recall_score(y_true=tune_df.y,y_pred=tune_df.y_pred) )\n",
        "confusion_matrix(y_true=tune_df.y,y_pred=tune_df.y_pred).T"
      ],
      "execution_count": 64,
      "outputs": [
        {
          "output_type": "stream",
          "text": [
            "I0731 17:06:46.436407 139869363488640 estimator.py:1145] Calling model_fn.\n",
            "I0731 17:06:46.475998 139869363488640 estimator.py:1147] Done calling model_fn.\n",
            "I0731 17:06:46.558421 139869363488640 monitored_session.py:240] Graph was finalized.\n",
            "I0731 17:06:46.567446 139869363488640 saver.py:1280] Restoring parameters from /content/drive/My Drive/autoencoder_example/autoencoder_model_v1/model.ckpt-12000\n",
            "I0731 17:06:46.601592 139869363488640 session_manager.py:500] Running local_init_op.\n",
            "I0731 17:06:46.610468 139869363488640 session_manager.py:502] Done running local_init_op.\n",
            "/usr/local/lib/python3.6/dist-packages/ipykernel_launcher.py:19: RuntimeWarning: invalid value encountered in true_divide\n"
          ],
          "name": "stderr"
        },
        {
          "output_type": "stream",
          "text": [
            "best mse threshold =  0.0180919598788023\n",
            "0.5302593659942363 0.4681933842239186\n"
          ],
          "name": "stdout"
        },
        {
          "output_type": "execute_result",
          "data": {
            "text/plain": [
              "array([[227289,    209],\n",
              "       [   163,    184]])"
            ]
          },
          "metadata": {
            "tags": []
          },
          "execution_count": 64
        }
      ]
    },
    {
      "cell_type": "markdown",
      "metadata": {
        "id": "t3AkUHvD5x2c",
        "colab_type": "text"
      },
      "source": [
        "# Validation Set Performance"
      ]
    },
    {
      "cell_type": "code",
      "metadata": {
        "id": "PdkSxYjy390Q",
        "colab_type": "code",
        "colab": {
          "base_uri": "https://localhost:8080/",
          "height": 178
        },
        "outputId": "98fa5d7d-b112-4ddc-c217-966cc1008145"
      },
      "source": [
        "test_pred = ae.predict(sc.transform(test_X),batch_size=20000)\n",
        "\n",
        "pred_mse = []\n",
        "pred_X_clone = []\n",
        "\n",
        "for tp in test_pred:\n",
        "  pred_mse.append( tp['mse'] )\n",
        "  pred_X_clone.append( tp['Z'] )\n",
        "\n",
        "test_pred_X_clone = np.array(pred_X_clone)\n",
        "\n",
        "vdf = pd.DataFrame({'mse':pred_mse,'y':test_y.tolist()})\n",
        "vdf['y_pred'] = (vdf.mse >= best_thres).astype('int')\n",
        "print( precision_score(y_true=vdf.y,y_pred=vdf.y_pred),recall_score(y_true=vdf.y,y_pred=vdf.y_pred) )\n",
        "confusion_matrix(y_true=vdf.y,y_pred=vdf.y_pred).T\n"
      ],
      "execution_count": 65,
      "outputs": [
        {
          "output_type": "stream",
          "text": [
            "I0731 17:07:23.246297 139869363488640 estimator.py:1145] Calling model_fn.\n",
            "I0731 17:07:23.286648 139869363488640 estimator.py:1147] Done calling model_fn.\n",
            "I0731 17:07:23.371632 139869363488640 monitored_session.py:240] Graph was finalized.\n",
            "I0731 17:07:23.379802 139869363488640 saver.py:1280] Restoring parameters from /content/drive/My Drive/autoencoder_example/autoencoder_model_v1/model.ckpt-12000\n",
            "I0731 17:07:23.413257 139869363488640 session_manager.py:500] Running local_init_op.\n",
            "I0731 17:07:23.424233 139869363488640 session_manager.py:502] Done running local_init_op.\n"
          ],
          "name": "stderr"
        },
        {
          "output_type": "stream",
          "text": [
            "0.6027397260273972 0.4444444444444444\n"
          ],
          "name": "stdout"
        },
        {
          "output_type": "execute_result",
          "data": {
            "text/plain": [
              "array([[56834,    55],\n",
              "       [   29,    44]])"
            ]
          },
          "metadata": {
            "tags": []
          },
          "execution_count": 65
        }
      ]
    }
  ]
}